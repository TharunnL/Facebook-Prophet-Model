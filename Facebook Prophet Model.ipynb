{
 "cells": [
  {
   "cell_type": "code",
   "execution_count": 1,
   "id": "9dbe3562",
   "metadata": {
    "id": "9dbe3562"
   },
   "outputs": [],
   "source": [
    "import os, sys\n",
    "import numpy as np\n",
    "import pandas as pd\n",
    "import matplotlib.pyplot as plt\n",
    "%matplotlib inline\n",
    "import seaborn as sns\n",
    "sns.set()\n",
    "\n",
    "import warnings\n",
    "warnings.filterwarnings('ignore')\n",
    "from datetime import datetime"
   ]
  },
  {
   "cell_type": "code",
   "execution_count": 2,
   "id": "213f3e2a",
   "metadata": {
    "id": "213f3e2a",
    "outputId": "b243aba1-75d5-4656-930c-d711a70e4193"
   },
   "outputs": [
    {
     "data": {
      "text/html": [
       "<div>\n",
       "<style scoped>\n",
       "    .dataframe tbody tr th:only-of-type {\n",
       "        vertical-align: middle;\n",
       "    }\n",
       "\n",
       "    .dataframe tbody tr th {\n",
       "        vertical-align: top;\n",
       "    }\n",
       "\n",
       "    .dataframe thead th {\n",
       "        text-align: right;\n",
       "    }\n",
       "</style>\n",
       "<table border=\"1\" class=\"dataframe\">\n",
       "  <thead>\n",
       "    <tr style=\"text-align: right;\">\n",
       "      <th></th>\n",
       "      <th>Province/State</th>\n",
       "      <th>Country/Region</th>\n",
       "      <th>Lat</th>\n",
       "      <th>Long</th>\n",
       "      <th>Date</th>\n",
       "      <th>Confirmed</th>\n",
       "      <th>Deaths</th>\n",
       "      <th>Recovered</th>\n",
       "      <th>Active</th>\n",
       "      <th>WHO Region</th>\n",
       "    </tr>\n",
       "  </thead>\n",
       "  <tbody>\n",
       "    <tr>\n",
       "      <th>0</th>\n",
       "      <td>NaN</td>\n",
       "      <td>Afghanistan</td>\n",
       "      <td>33.93911</td>\n",
       "      <td>67.709953</td>\n",
       "      <td>2020-01-22</td>\n",
       "      <td>0</td>\n",
       "      <td>0</td>\n",
       "      <td>0</td>\n",
       "      <td>0</td>\n",
       "      <td>Eastern Mediterranean</td>\n",
       "    </tr>\n",
       "    <tr>\n",
       "      <th>1</th>\n",
       "      <td>NaN</td>\n",
       "      <td>Albania</td>\n",
       "      <td>41.15330</td>\n",
       "      <td>20.168300</td>\n",
       "      <td>2020-01-22</td>\n",
       "      <td>0</td>\n",
       "      <td>0</td>\n",
       "      <td>0</td>\n",
       "      <td>0</td>\n",
       "      <td>Europe</td>\n",
       "    </tr>\n",
       "    <tr>\n",
       "      <th>2</th>\n",
       "      <td>NaN</td>\n",
       "      <td>Algeria</td>\n",
       "      <td>28.03390</td>\n",
       "      <td>1.659600</td>\n",
       "      <td>2020-01-22</td>\n",
       "      <td>0</td>\n",
       "      <td>0</td>\n",
       "      <td>0</td>\n",
       "      <td>0</td>\n",
       "      <td>Africa</td>\n",
       "    </tr>\n",
       "    <tr>\n",
       "      <th>3</th>\n",
       "      <td>NaN</td>\n",
       "      <td>Andorra</td>\n",
       "      <td>42.50630</td>\n",
       "      <td>1.521800</td>\n",
       "      <td>2020-01-22</td>\n",
       "      <td>0</td>\n",
       "      <td>0</td>\n",
       "      <td>0</td>\n",
       "      <td>0</td>\n",
       "      <td>Europe</td>\n",
       "    </tr>\n",
       "    <tr>\n",
       "      <th>4</th>\n",
       "      <td>NaN</td>\n",
       "      <td>Angola</td>\n",
       "      <td>-11.20270</td>\n",
       "      <td>17.873900</td>\n",
       "      <td>2020-01-22</td>\n",
       "      <td>0</td>\n",
       "      <td>0</td>\n",
       "      <td>0</td>\n",
       "      <td>0</td>\n",
       "      <td>Africa</td>\n",
       "    </tr>\n",
       "  </tbody>\n",
       "</table>\n",
       "</div>"
      ],
      "text/plain": [
       "  Province/State Country/Region       Lat       Long        Date  Confirmed  \\\n",
       "0            NaN    Afghanistan  33.93911  67.709953  2020-01-22          0   \n",
       "1            NaN        Albania  41.15330  20.168300  2020-01-22          0   \n",
       "2            NaN        Algeria  28.03390   1.659600  2020-01-22          0   \n",
       "3            NaN        Andorra  42.50630   1.521800  2020-01-22          0   \n",
       "4            NaN         Angola -11.20270  17.873900  2020-01-22          0   \n",
       "\n",
       "   Deaths  Recovered  Active             WHO Region  \n",
       "0       0          0       0  Eastern Mediterranean  \n",
       "1       0          0       0                 Europe  \n",
       "2       0          0       0                 Africa  \n",
       "3       0          0       0                 Europe  \n",
       "4       0          0       0                 Africa  "
      ]
     },
     "execution_count": 2,
     "metadata": {},
     "output_type": "execute_result"
    }
   ],
   "source": [
    "covid_data = pd.read_csv('covid_19_clean_complete.csv')\n",
    "covid_data.head()"
   ]
  },
  {
   "cell_type": "code",
   "execution_count": 3,
   "id": "db7ec6b7",
   "metadata": {
    "id": "db7ec6b7",
    "outputId": "14e01dde-d62e-4afb-8591-a7aec20117ab"
   },
   "outputs": [
    {
     "data": {
      "text/html": [
       "<div>\n",
       "<style scoped>\n",
       "    .dataframe tbody tr th:only-of-type {\n",
       "        vertical-align: middle;\n",
       "    }\n",
       "\n",
       "    .dataframe tbody tr th {\n",
       "        vertical-align: top;\n",
       "    }\n",
       "\n",
       "    .dataframe thead th {\n",
       "        text-align: right;\n",
       "    }\n",
       "</style>\n",
       "<table border=\"1\" class=\"dataframe\">\n",
       "  <thead>\n",
       "    <tr style=\"text-align: right;\">\n",
       "      <th></th>\n",
       "      <th>Province/State</th>\n",
       "      <th>Country/Region</th>\n",
       "      <th>Lat</th>\n",
       "      <th>Long</th>\n",
       "      <th>Date</th>\n",
       "      <th>Confirmed</th>\n",
       "      <th>Deaths</th>\n",
       "      <th>Recovered</th>\n",
       "      <th>Active</th>\n",
       "      <th>WHO Region</th>\n",
       "    </tr>\n",
       "  </thead>\n",
       "  <tbody>\n",
       "    <tr>\n",
       "      <th>49063</th>\n",
       "      <td>NaN</td>\n",
       "      <td>Sao Tome and Principe</td>\n",
       "      <td>0.186400</td>\n",
       "      <td>6.613100</td>\n",
       "      <td>2020-07-27</td>\n",
       "      <td>865</td>\n",
       "      <td>14</td>\n",
       "      <td>734</td>\n",
       "      <td>117</td>\n",
       "      <td>Africa</td>\n",
       "    </tr>\n",
       "    <tr>\n",
       "      <th>49064</th>\n",
       "      <td>NaN</td>\n",
       "      <td>Yemen</td>\n",
       "      <td>15.552727</td>\n",
       "      <td>48.516388</td>\n",
       "      <td>2020-07-27</td>\n",
       "      <td>1691</td>\n",
       "      <td>483</td>\n",
       "      <td>833</td>\n",
       "      <td>375</td>\n",
       "      <td>Eastern Mediterranean</td>\n",
       "    </tr>\n",
       "    <tr>\n",
       "      <th>49065</th>\n",
       "      <td>NaN</td>\n",
       "      <td>Comoros</td>\n",
       "      <td>-11.645500</td>\n",
       "      <td>43.333300</td>\n",
       "      <td>2020-07-27</td>\n",
       "      <td>354</td>\n",
       "      <td>7</td>\n",
       "      <td>328</td>\n",
       "      <td>19</td>\n",
       "      <td>Africa</td>\n",
       "    </tr>\n",
       "    <tr>\n",
       "      <th>49066</th>\n",
       "      <td>NaN</td>\n",
       "      <td>Tajikistan</td>\n",
       "      <td>38.861000</td>\n",
       "      <td>71.276100</td>\n",
       "      <td>2020-07-27</td>\n",
       "      <td>7235</td>\n",
       "      <td>60</td>\n",
       "      <td>6028</td>\n",
       "      <td>1147</td>\n",
       "      <td>Europe</td>\n",
       "    </tr>\n",
       "    <tr>\n",
       "      <th>49067</th>\n",
       "      <td>NaN</td>\n",
       "      <td>Lesotho</td>\n",
       "      <td>-29.610000</td>\n",
       "      <td>28.233600</td>\n",
       "      <td>2020-07-27</td>\n",
       "      <td>505</td>\n",
       "      <td>12</td>\n",
       "      <td>128</td>\n",
       "      <td>365</td>\n",
       "      <td>Africa</td>\n",
       "    </tr>\n",
       "  </tbody>\n",
       "</table>\n",
       "</div>"
      ],
      "text/plain": [
       "      Province/State         Country/Region        Lat       Long        Date  \\\n",
       "49063            NaN  Sao Tome and Principe   0.186400   6.613100  2020-07-27   \n",
       "49064            NaN                  Yemen  15.552727  48.516388  2020-07-27   \n",
       "49065            NaN                Comoros -11.645500  43.333300  2020-07-27   \n",
       "49066            NaN             Tajikistan  38.861000  71.276100  2020-07-27   \n",
       "49067            NaN                Lesotho -29.610000  28.233600  2020-07-27   \n",
       "\n",
       "       Confirmed  Deaths  Recovered  Active             WHO Region  \n",
       "49063        865      14        734     117                 Africa  \n",
       "49064       1691     483        833     375  Eastern Mediterranean  \n",
       "49065        354       7        328      19                 Africa  \n",
       "49066       7235      60       6028    1147                 Europe  \n",
       "49067        505      12        128     365                 Africa  "
      ]
     },
     "execution_count": 3,
     "metadata": {},
     "output_type": "execute_result"
    }
   ],
   "source": [
    "covid_data.tail()"
   ]
  },
  {
   "cell_type": "code",
   "execution_count": 4,
   "id": "e0962a86",
   "metadata": {
    "id": "e0962a86",
    "outputId": "a131dbeb-1eb8-42af-8046-db32f60e76a5"
   },
   "outputs": [
    {
     "data": {
      "text/plain": [
       "Province/State    34404\n",
       "Country/Region        0\n",
       "Lat                   0\n",
       "Long                  0\n",
       "Date                  0\n",
       "Confirmed             0\n",
       "Deaths                0\n",
       "Recovered             0\n",
       "Active                0\n",
       "WHO Region            0\n",
       "dtype: int64"
      ]
     },
     "execution_count": 4,
     "metadata": {},
     "output_type": "execute_result"
    }
   ],
   "source": [
    "covid_data.isnull().sum()"
   ]
  },
  {
   "cell_type": "code",
   "execution_count": 5,
   "id": "1eaec44f",
   "metadata": {
    "id": "1eaec44f",
    "outputId": "ea18d197-da2a-4967-b62c-ca364e133e14"
   },
   "outputs": [
    {
     "name": "stdout",
     "output_type": "stream",
     "text": [
      "<class 'pandas.core.frame.DataFrame'>\n",
      "RangeIndex: 49068 entries, 0 to 49067\n",
      "Data columns (total 10 columns):\n",
      " #   Column          Non-Null Count  Dtype  \n",
      "---  ------          --------------  -----  \n",
      " 0   Province/State  14664 non-null  object \n",
      " 1   Country/Region  49068 non-null  object \n",
      " 2   Lat             49068 non-null  float64\n",
      " 3   Long            49068 non-null  float64\n",
      " 4   Date            49068 non-null  object \n",
      " 5   Confirmed       49068 non-null  int64  \n",
      " 6   Deaths          49068 non-null  int64  \n",
      " 7   Recovered       49068 non-null  int64  \n",
      " 8   Active          49068 non-null  int64  \n",
      " 9   WHO Region      49068 non-null  object \n",
      "dtypes: float64(2), int64(4), object(4)\n",
      "memory usage: 3.7+ MB\n"
     ]
    }
   ],
   "source": [
    "covid_data.info()"
   ]
  },
  {
   "cell_type": "code",
   "execution_count": 6,
   "id": "43cfc5c4",
   "metadata": {
    "id": "43cfc5c4"
   },
   "outputs": [],
   "source": [
    "covid_data['Date'] = pd.to_datetime(covid_data['Date'])"
   ]
  },
  {
   "cell_type": "code",
   "execution_count": 7,
   "id": "b01e0764",
   "metadata": {
    "id": "b01e0764"
   },
   "outputs": [],
   "source": [
    "import statsmodels.api as sm"
   ]
  },
  {
   "cell_type": "code",
   "execution_count": 8,
   "id": "5d645f8f",
   "metadata": {
    "id": "5d645f8f",
    "outputId": "ff9321c2-41c0-4f68-e30d-9c118c936127"
   },
   "outputs": [
    {
     "data": {
      "text/plain": [
       "1.9582652252691064"
      ]
     },
     "execution_count": 8,
     "metadata": {},
     "output_type": "execute_result"
    }
   ],
   "source": [
    "sm.stats.durbin_watson(covid_data['Confirmed'])"
   ]
  },
  {
   "cell_type": "code",
   "execution_count": 9,
   "id": "19408f99",
   "metadata": {
    "id": "19408f99",
    "outputId": "4f68b30e-980c-4d68-ddd3-95469a828a8a"
   },
   "outputs": [
    {
     "data": {
      "text/plain": [
       "1.9783752272041735"
      ]
     },
     "execution_count": 9,
     "metadata": {},
     "output_type": "execute_result"
    }
   ],
   "source": [
    "sm.stats.durbin_watson(covid_data['Deaths'])"
   ]
  },
  {
   "cell_type": "code",
   "execution_count": 10,
   "id": "98f68e42",
   "metadata": {
    "id": "98f68e42",
    "outputId": "dc0518a8-9c95-4dbe-89b9-9441aa09ebda"
   },
   "outputs": [
    {
     "data": {
      "text/plain": [
       "1.9827116482632792"
      ]
     },
     "execution_count": 10,
     "metadata": {},
     "output_type": "execute_result"
    }
   ],
   "source": [
    "sm.stats.durbin_watson(covid_data['Active'])"
   ]
  },
  {
   "cell_type": "code",
   "execution_count": 11,
   "id": "c5814bac",
   "metadata": {
    "id": "c5814bac",
    "outputId": "0a5a4ba4-1d4c-4107-d337-7a84843bc8d6"
   },
   "outputs": [
    {
     "data": {
      "text/html": [
       "<div>\n",
       "<style scoped>\n",
       "    .dataframe tbody tr th:only-of-type {\n",
       "        vertical-align: middle;\n",
       "    }\n",
       "\n",
       "    .dataframe tbody tr th {\n",
       "        vertical-align: top;\n",
       "    }\n",
       "\n",
       "    .dataframe thead th {\n",
       "        text-align: right;\n",
       "    }\n",
       "</style>\n",
       "<table border=\"1\" class=\"dataframe\">\n",
       "  <thead>\n",
       "    <tr style=\"text-align: right;\">\n",
       "      <th></th>\n",
       "      <th>Lat</th>\n",
       "      <th>Long</th>\n",
       "      <th>Confirmed</th>\n",
       "      <th>Deaths</th>\n",
       "      <th>Recovered</th>\n",
       "      <th>Active</th>\n",
       "    </tr>\n",
       "  </thead>\n",
       "  <tbody>\n",
       "    <tr>\n",
       "      <th>count</th>\n",
       "      <td>49068.000000</td>\n",
       "      <td>49068.000000</td>\n",
       "      <td>4.906800e+04</td>\n",
       "      <td>49068.000000</td>\n",
       "      <td>4.906800e+04</td>\n",
       "      <td>4.906800e+04</td>\n",
       "    </tr>\n",
       "    <tr>\n",
       "      <th>mean</th>\n",
       "      <td>21.433730</td>\n",
       "      <td>23.528236</td>\n",
       "      <td>1.688490e+04</td>\n",
       "      <td>884.179160</td>\n",
       "      <td>7.915713e+03</td>\n",
       "      <td>8.085012e+03</td>\n",
       "    </tr>\n",
       "    <tr>\n",
       "      <th>std</th>\n",
       "      <td>24.950320</td>\n",
       "      <td>70.442740</td>\n",
       "      <td>1.273002e+05</td>\n",
       "      <td>6313.584411</td>\n",
       "      <td>5.480092e+04</td>\n",
       "      <td>7.625890e+04</td>\n",
       "    </tr>\n",
       "    <tr>\n",
       "      <th>min</th>\n",
       "      <td>-51.796300</td>\n",
       "      <td>-135.000000</td>\n",
       "      <td>0.000000e+00</td>\n",
       "      <td>0.000000</td>\n",
       "      <td>0.000000e+00</td>\n",
       "      <td>-1.400000e+01</td>\n",
       "    </tr>\n",
       "    <tr>\n",
       "      <th>25%</th>\n",
       "      <td>7.873054</td>\n",
       "      <td>-15.310100</td>\n",
       "      <td>4.000000e+00</td>\n",
       "      <td>0.000000</td>\n",
       "      <td>0.000000e+00</td>\n",
       "      <td>0.000000e+00</td>\n",
       "    </tr>\n",
       "    <tr>\n",
       "      <th>50%</th>\n",
       "      <td>23.634500</td>\n",
       "      <td>21.745300</td>\n",
       "      <td>1.680000e+02</td>\n",
       "      <td>2.000000</td>\n",
       "      <td>2.900000e+01</td>\n",
       "      <td>2.600000e+01</td>\n",
       "    </tr>\n",
       "    <tr>\n",
       "      <th>75%</th>\n",
       "      <td>41.204380</td>\n",
       "      <td>80.771797</td>\n",
       "      <td>1.518250e+03</td>\n",
       "      <td>30.000000</td>\n",
       "      <td>6.660000e+02</td>\n",
       "      <td>6.060000e+02</td>\n",
       "    </tr>\n",
       "    <tr>\n",
       "      <th>max</th>\n",
       "      <td>71.706900</td>\n",
       "      <td>178.065000</td>\n",
       "      <td>4.290259e+06</td>\n",
       "      <td>148011.000000</td>\n",
       "      <td>1.846641e+06</td>\n",
       "      <td>2.816444e+06</td>\n",
       "    </tr>\n",
       "  </tbody>\n",
       "</table>\n",
       "</div>"
      ],
      "text/plain": [
       "                Lat          Long     Confirmed         Deaths     Recovered  \\\n",
       "count  49068.000000  49068.000000  4.906800e+04   49068.000000  4.906800e+04   \n",
       "mean      21.433730     23.528236  1.688490e+04     884.179160  7.915713e+03   \n",
       "std       24.950320     70.442740  1.273002e+05    6313.584411  5.480092e+04   \n",
       "min      -51.796300   -135.000000  0.000000e+00       0.000000  0.000000e+00   \n",
       "25%        7.873054    -15.310100  4.000000e+00       0.000000  0.000000e+00   \n",
       "50%       23.634500     21.745300  1.680000e+02       2.000000  2.900000e+01   \n",
       "75%       41.204380     80.771797  1.518250e+03      30.000000  6.660000e+02   \n",
       "max       71.706900    178.065000  4.290259e+06  148011.000000  1.846641e+06   \n",
       "\n",
       "             Active  \n",
       "count  4.906800e+04  \n",
       "mean   8.085012e+03  \n",
       "std    7.625890e+04  \n",
       "min   -1.400000e+01  \n",
       "25%    0.000000e+00  \n",
       "50%    2.600000e+01  \n",
       "75%    6.060000e+02  \n",
       "max    2.816444e+06  "
      ]
     },
     "execution_count": 11,
     "metadata": {},
     "output_type": "execute_result"
    }
   ],
   "source": [
    "covid_data.describe()"
   ]
  },
  {
   "cell_type": "code",
   "execution_count": 12,
   "id": "6018e5b7",
   "metadata": {
    "id": "6018e5b7",
    "outputId": "bf1416c0-406f-4f80-c0fa-0216b6d66b8a"
   },
   "outputs": [
    {
     "data": {
      "text/plain": [
       "188"
      ]
     },
     "execution_count": 12,
     "metadata": {},
     "output_type": "execute_result"
    }
   ],
   "source": [
    "covid_data['Date'].nunique()"
   ]
  },
  {
   "cell_type": "code",
   "execution_count": 13,
   "id": "c866ad95",
   "metadata": {
    "id": "c866ad95"
   },
   "outputs": [],
   "source": [
    "# Group the country details basis date\n",
    "total = covid_data.groupby(['Date'])['Confirmed','Deaths','Recovered','Active'].sum().reset_index()"
   ]
  },
  {
   "cell_type": "code",
   "execution_count": 14,
   "id": "1f2f8200",
   "metadata": {
    "id": "1f2f8200",
    "outputId": "65d97f3d-2f42-4b03-9dd5-5c171eebea45"
   },
   "outputs": [
    {
     "data": {
      "text/html": [
       "<div>\n",
       "<style scoped>\n",
       "    .dataframe tbody tr th:only-of-type {\n",
       "        vertical-align: middle;\n",
       "    }\n",
       "\n",
       "    .dataframe tbody tr th {\n",
       "        vertical-align: top;\n",
       "    }\n",
       "\n",
       "    .dataframe thead th {\n",
       "        text-align: right;\n",
       "    }\n",
       "</style>\n",
       "<table border=\"1\" class=\"dataframe\">\n",
       "  <thead>\n",
       "    <tr style=\"text-align: right;\">\n",
       "      <th></th>\n",
       "      <th>Date</th>\n",
       "      <th>Confirmed</th>\n",
       "      <th>Deaths</th>\n",
       "      <th>Recovered</th>\n",
       "      <th>Active</th>\n",
       "    </tr>\n",
       "  </thead>\n",
       "  <tbody>\n",
       "    <tr>\n",
       "      <th>0</th>\n",
       "      <td>2020-01-22</td>\n",
       "      <td>555</td>\n",
       "      <td>17</td>\n",
       "      <td>28</td>\n",
       "      <td>510</td>\n",
       "    </tr>\n",
       "    <tr>\n",
       "      <th>1</th>\n",
       "      <td>2020-01-23</td>\n",
       "      <td>654</td>\n",
       "      <td>18</td>\n",
       "      <td>30</td>\n",
       "      <td>606</td>\n",
       "    </tr>\n",
       "    <tr>\n",
       "      <th>2</th>\n",
       "      <td>2020-01-24</td>\n",
       "      <td>941</td>\n",
       "      <td>26</td>\n",
       "      <td>36</td>\n",
       "      <td>879</td>\n",
       "    </tr>\n",
       "    <tr>\n",
       "      <th>3</th>\n",
       "      <td>2020-01-25</td>\n",
       "      <td>1434</td>\n",
       "      <td>42</td>\n",
       "      <td>39</td>\n",
       "      <td>1353</td>\n",
       "    </tr>\n",
       "    <tr>\n",
       "      <th>4</th>\n",
       "      <td>2020-01-26</td>\n",
       "      <td>2118</td>\n",
       "      <td>56</td>\n",
       "      <td>52</td>\n",
       "      <td>2010</td>\n",
       "    </tr>\n",
       "    <tr>\n",
       "      <th>...</th>\n",
       "      <td>...</td>\n",
       "      <td>...</td>\n",
       "      <td>...</td>\n",
       "      <td>...</td>\n",
       "      <td>...</td>\n",
       "    </tr>\n",
       "    <tr>\n",
       "      <th>183</th>\n",
       "      <td>2020-07-23</td>\n",
       "      <td>15510481</td>\n",
       "      <td>633506</td>\n",
       "      <td>8710969</td>\n",
       "      <td>6166006</td>\n",
       "    </tr>\n",
       "    <tr>\n",
       "      <th>184</th>\n",
       "      <td>2020-07-24</td>\n",
       "      <td>15791645</td>\n",
       "      <td>639650</td>\n",
       "      <td>8939705</td>\n",
       "      <td>6212290</td>\n",
       "    </tr>\n",
       "    <tr>\n",
       "      <th>185</th>\n",
       "      <td>2020-07-25</td>\n",
       "      <td>16047190</td>\n",
       "      <td>644517</td>\n",
       "      <td>9158743</td>\n",
       "      <td>6243930</td>\n",
       "    </tr>\n",
       "    <tr>\n",
       "      <th>186</th>\n",
       "      <td>2020-07-26</td>\n",
       "      <td>16251796</td>\n",
       "      <td>648621</td>\n",
       "      <td>9293464</td>\n",
       "      <td>6309711</td>\n",
       "    </tr>\n",
       "    <tr>\n",
       "      <th>187</th>\n",
       "      <td>2020-07-27</td>\n",
       "      <td>16480485</td>\n",
       "      <td>654036</td>\n",
       "      <td>9468087</td>\n",
       "      <td>6358362</td>\n",
       "    </tr>\n",
       "  </tbody>\n",
       "</table>\n",
       "<p>188 rows × 5 columns</p>\n",
       "</div>"
      ],
      "text/plain": [
       "          Date  Confirmed  Deaths  Recovered   Active\n",
       "0   2020-01-22        555      17         28      510\n",
       "1   2020-01-23        654      18         30      606\n",
       "2   2020-01-24        941      26         36      879\n",
       "3   2020-01-25       1434      42         39     1353\n",
       "4   2020-01-26       2118      56         52     2010\n",
       "..         ...        ...     ...        ...      ...\n",
       "183 2020-07-23   15510481  633506    8710969  6166006\n",
       "184 2020-07-24   15791645  639650    8939705  6212290\n",
       "185 2020-07-25   16047190  644517    9158743  6243930\n",
       "186 2020-07-26   16251796  648621    9293464  6309711\n",
       "187 2020-07-27   16480485  654036    9468087  6358362\n",
       "\n",
       "[188 rows x 5 columns]"
      ]
     },
     "execution_count": 14,
     "metadata": {},
     "output_type": "execute_result"
    }
   ],
   "source": [
    "total"
   ]
  },
  {
   "cell_type": "markdown",
   "id": "1712267d",
   "metadata": {
    "id": "1712267d"
   },
   "source": [
    "# Import Facebook Prophet Model"
   ]
  },
  {
   "cell_type": "code",
   "execution_count": 15,
   "id": "cb0a0493",
   "metadata": {
    "id": "cb0a0493"
   },
   "outputs": [],
   "source": [
    "#pip install pystan"
   ]
  },
  {
   "cell_type": "code",
   "execution_count": 16,
   "id": "13d4bde6",
   "metadata": {
    "id": "13d4bde6"
   },
   "outputs": [
    {
     "name": "stdout",
     "output_type": "stream",
     "text": [
      "Collecting prophet\n",
      "  Downloading prophet-1.1.5-py3-none-win_amd64.whl (13.3 MB)\n",
      "Requirement already satisfied: matplotlib>=2.0.0 in c:\\users\\tarunn\\anaconda3\\lib\\site-packages (from prophet) (3.5.1)\n",
      "Collecting importlib-resources\n",
      "  Downloading importlib_resources-6.4.0-py3-none-any.whl (38 kB)\n",
      "Requirement already satisfied: pandas>=1.0.4 in c:\\users\\tarunn\\anaconda3\\lib\\site-packages (from prophet) (1.4.2)\n",
      "Collecting holidays>=0.25\n",
      "  Downloading holidays-0.45-py3-none-any.whl (932 kB)\n",
      "Collecting cmdstanpy>=1.0.4\n",
      "  Downloading cmdstanpy-1.2.2-py3-none-any.whl (94 kB)\n",
      "Requirement already satisfied: numpy>=1.15.4 in c:\\users\\tarunn\\anaconda3\\lib\\site-packages (from prophet) (1.21.5)\n",
      "Requirement already satisfied: tqdm>=4.36.1 in c:\\users\\tarunn\\anaconda3\\lib\\site-packages (from prophet) (4.64.0)\n",
      "Collecting stanio<2.0.0,>=0.4.0\n",
      "  Downloading stanio-0.5.0-py3-none-any.whl (8.0 kB)\n",
      "Requirement already satisfied: python-dateutil in c:\\users\\tarunn\\anaconda3\\lib\\site-packages (from holidays>=0.25->prophet) (2.8.2)\n",
      "Requirement already satisfied: fonttools>=4.22.0 in c:\\users\\tarunn\\anaconda3\\lib\\site-packages (from matplotlib>=2.0.0->prophet) (4.25.0)\n",
      "Requirement already satisfied: cycler>=0.10 in c:\\users\\tarunn\\anaconda3\\lib\\site-packages (from matplotlib>=2.0.0->prophet) (0.11.0)\n",
      "Requirement already satisfied: packaging>=20.0 in c:\\users\\tarunn\\anaconda3\\lib\\site-packages (from matplotlib>=2.0.0->prophet) (21.3)\n",
      "Requirement already satisfied: pillow>=6.2.0 in c:\\users\\tarunn\\anaconda3\\lib\\site-packages (from matplotlib>=2.0.0->prophet) (9.0.1)\n",
      "Requirement already satisfied: pyparsing>=2.2.1 in c:\\users\\tarunn\\anaconda3\\lib\\site-packages (from matplotlib>=2.0.0->prophet) (3.0.4)\n",
      "Requirement already satisfied: kiwisolver>=1.0.1 in c:\\users\\tarunn\\anaconda3\\lib\\site-packages (from matplotlib>=2.0.0->prophet) (1.3.2)\n",
      "Requirement already satisfied: pytz>=2020.1 in c:\\users\\tarunn\\anaconda3\\lib\\site-packages (from pandas>=1.0.4->prophet) (2021.3)\n",
      "Requirement already satisfied: six>=1.5 in c:\\users\\tarunn\\anaconda3\\lib\\site-packages (from python-dateutil->holidays>=0.25->prophet) (1.16.0)\n",
      "Requirement already satisfied: colorama in c:\\users\\tarunn\\anaconda3\\lib\\site-packages (from tqdm>=4.36.1->prophet) (0.4.4)\n",
      "Requirement already satisfied: zipp>=3.1.0 in c:\\users\\tarunn\\anaconda3\\lib\\site-packages (from importlib-resources->prophet) (3.7.0)\n",
      "Installing collected packages: stanio, importlib-resources, holidays, cmdstanpy, prophet\n",
      "Successfully installed cmdstanpy-1.2.2 holidays-0.45 importlib-resources-6.4.0 prophet-1.1.5 stanio-0.5.0\n",
      "Note: you may need to restart the kernel to use updated packages.\n"
     ]
    }
   ],
   "source": [
    "pip install prophet"
   ]
  },
  {
   "cell_type": "code",
   "execution_count": 17,
   "id": "b6c1f765",
   "metadata": {
    "id": "b6c1f765"
   },
   "outputs": [],
   "source": [
    "import prophet"
   ]
  },
  {
   "cell_type": "code",
   "execution_count": 18,
   "id": "ccc4a022",
   "metadata": {
    "id": "ccc4a022",
    "outputId": "c7515ebb-b1ed-4d55-fe93-74e734417f43"
   },
   "outputs": [
    {
     "data": {
      "text/plain": [
       "['Path',\n",
       " 'Prophet',\n",
       " '__builtins__',\n",
       " '__cached__',\n",
       " '__doc__',\n",
       " '__file__',\n",
       " '__loader__',\n",
       " '__name__',\n",
       " '__package__',\n",
       " '__path__',\n",
       " '__spec__',\n",
       " '__version__',\n",
       " 'about',\n",
       " 'diagnostics',\n",
       " 'f',\n",
       " 'forecaster',\n",
       " 'here',\n",
       " 'make_holidays',\n",
       " 'models',\n",
       " 'plot']"
      ]
     },
     "execution_count": 18,
     "metadata": {},
     "output_type": "execute_result"
    }
   ],
   "source": [
    "dir(prophet)"
   ]
  },
  {
   "cell_type": "code",
   "execution_count": 19,
   "id": "2960fbb9",
   "metadata": {
    "id": "2960fbb9"
   },
   "outputs": [],
   "source": [
    "df_prophet = total.rename(columns={'Date':'ds', 'Confirmed':'y'})"
   ]
  },
  {
   "cell_type": "code",
   "execution_count": 20,
   "id": "2e95fb3c",
   "metadata": {
    "id": "2e95fb3c",
    "outputId": "fe6c6f30-d138-4a6d-e777-70b9b5f4a794"
   },
   "outputs": [
    {
     "data": {
      "text/html": [
       "<div>\n",
       "<style scoped>\n",
       "    .dataframe tbody tr th:only-of-type {\n",
       "        vertical-align: middle;\n",
       "    }\n",
       "\n",
       "    .dataframe tbody tr th {\n",
       "        vertical-align: top;\n",
       "    }\n",
       "\n",
       "    .dataframe thead th {\n",
       "        text-align: right;\n",
       "    }\n",
       "</style>\n",
       "<table border=\"1\" class=\"dataframe\">\n",
       "  <thead>\n",
       "    <tr style=\"text-align: right;\">\n",
       "      <th></th>\n",
       "      <th>ds</th>\n",
       "      <th>y</th>\n",
       "      <th>Deaths</th>\n",
       "      <th>Recovered</th>\n",
       "      <th>Active</th>\n",
       "    </tr>\n",
       "  </thead>\n",
       "  <tbody>\n",
       "    <tr>\n",
       "      <th>0</th>\n",
       "      <td>2020-01-22</td>\n",
       "      <td>555</td>\n",
       "      <td>17</td>\n",
       "      <td>28</td>\n",
       "      <td>510</td>\n",
       "    </tr>\n",
       "    <tr>\n",
       "      <th>1</th>\n",
       "      <td>2020-01-23</td>\n",
       "      <td>654</td>\n",
       "      <td>18</td>\n",
       "      <td>30</td>\n",
       "      <td>606</td>\n",
       "    </tr>\n",
       "    <tr>\n",
       "      <th>2</th>\n",
       "      <td>2020-01-24</td>\n",
       "      <td>941</td>\n",
       "      <td>26</td>\n",
       "      <td>36</td>\n",
       "      <td>879</td>\n",
       "    </tr>\n",
       "    <tr>\n",
       "      <th>3</th>\n",
       "      <td>2020-01-25</td>\n",
       "      <td>1434</td>\n",
       "      <td>42</td>\n",
       "      <td>39</td>\n",
       "      <td>1353</td>\n",
       "    </tr>\n",
       "    <tr>\n",
       "      <th>4</th>\n",
       "      <td>2020-01-26</td>\n",
       "      <td>2118</td>\n",
       "      <td>56</td>\n",
       "      <td>52</td>\n",
       "      <td>2010</td>\n",
       "    </tr>\n",
       "    <tr>\n",
       "      <th>...</th>\n",
       "      <td>...</td>\n",
       "      <td>...</td>\n",
       "      <td>...</td>\n",
       "      <td>...</td>\n",
       "      <td>...</td>\n",
       "    </tr>\n",
       "    <tr>\n",
       "      <th>183</th>\n",
       "      <td>2020-07-23</td>\n",
       "      <td>15510481</td>\n",
       "      <td>633506</td>\n",
       "      <td>8710969</td>\n",
       "      <td>6166006</td>\n",
       "    </tr>\n",
       "    <tr>\n",
       "      <th>184</th>\n",
       "      <td>2020-07-24</td>\n",
       "      <td>15791645</td>\n",
       "      <td>639650</td>\n",
       "      <td>8939705</td>\n",
       "      <td>6212290</td>\n",
       "    </tr>\n",
       "    <tr>\n",
       "      <th>185</th>\n",
       "      <td>2020-07-25</td>\n",
       "      <td>16047190</td>\n",
       "      <td>644517</td>\n",
       "      <td>9158743</td>\n",
       "      <td>6243930</td>\n",
       "    </tr>\n",
       "    <tr>\n",
       "      <th>186</th>\n",
       "      <td>2020-07-26</td>\n",
       "      <td>16251796</td>\n",
       "      <td>648621</td>\n",
       "      <td>9293464</td>\n",
       "      <td>6309711</td>\n",
       "    </tr>\n",
       "    <tr>\n",
       "      <th>187</th>\n",
       "      <td>2020-07-27</td>\n",
       "      <td>16480485</td>\n",
       "      <td>654036</td>\n",
       "      <td>9468087</td>\n",
       "      <td>6358362</td>\n",
       "    </tr>\n",
       "  </tbody>\n",
       "</table>\n",
       "<p>188 rows × 5 columns</p>\n",
       "</div>"
      ],
      "text/plain": [
       "            ds         y  Deaths  Recovered   Active\n",
       "0   2020-01-22       555      17         28      510\n",
       "1   2020-01-23       654      18         30      606\n",
       "2   2020-01-24       941      26         36      879\n",
       "3   2020-01-25      1434      42         39     1353\n",
       "4   2020-01-26      2118      56         52     2010\n",
       "..         ...       ...     ...        ...      ...\n",
       "183 2020-07-23  15510481  633506    8710969  6166006\n",
       "184 2020-07-24  15791645  639650    8939705  6212290\n",
       "185 2020-07-25  16047190  644517    9158743  6243930\n",
       "186 2020-07-26  16251796  648621    9293464  6309711\n",
       "187 2020-07-27  16480485  654036    9468087  6358362\n",
       "\n",
       "[188 rows x 5 columns]"
      ]
     },
     "execution_count": 20,
     "metadata": {},
     "output_type": "execute_result"
    }
   ],
   "source": [
    "df_prophet"
   ]
  },
  {
   "cell_type": "code",
   "execution_count": 21,
   "id": "948792b4",
   "metadata": {
    "id": "948792b4",
    "outputId": "ca5ae184-bb41-4cc1-ab0f-f563d30b19ad"
   },
   "outputs": [
    {
     "name": "stderr",
     "output_type": "stream",
     "text": [
      "13:42:42 - cmdstanpy - INFO - Chain [1] start processing\n",
      "13:42:47 - cmdstanpy - INFO - Chain [1] done processing\n"
     ]
    }
   ],
   "source": [
    "from prophet import Prophet\n",
    "m = Prophet()\n",
    "model = m.fit(df_prophet)"
   ]
  },
  {
   "cell_type": "code",
   "execution_count": 22,
   "id": "5c0bf296",
   "metadata": {
    "id": "5c0bf296",
    "outputId": "b668e825-d08b-4996-c6ad-4394d92af4ec"
   },
   "outputs": [
    {
     "data": {
      "text/plain": [
       "OrderedDict([('weekly',\n",
       "              {'period': 7,\n",
       "               'fourier_order': 3,\n",
       "               'prior_scale': 10.0,\n",
       "               'mode': 'additive',\n",
       "               'condition_name': None})])"
      ]
     },
     "execution_count": 22,
     "metadata": {},
     "output_type": "execute_result"
    }
   ],
   "source": [
    "model.seasonalities"
   ]
  },
  {
   "cell_type": "code",
   "execution_count": 23,
   "id": "38ec448a",
   "metadata": {
    "id": "38ec448a",
    "outputId": "c5c47beb-5b88-4a1d-e1cb-9e3b419e2ab8"
   },
   "outputs": [
    {
     "data": {
      "text/plain": [
       "188"
      ]
     },
     "execution_count": 23,
     "metadata": {},
     "output_type": "execute_result"
    }
   ],
   "source": [
    "len(df_prophet)"
   ]
  },
  {
   "cell_type": "code",
   "execution_count": 24,
   "id": "5388e404",
   "metadata": {
    "id": "5388e404",
    "outputId": "f361571a-2d6a-4021-9cad-1fe768d03538"
   },
   "outputs": [
    {
     "data": {
      "text/html": [
       "<div>\n",
       "<style scoped>\n",
       "    .dataframe tbody tr th:only-of-type {\n",
       "        vertical-align: middle;\n",
       "    }\n",
       "\n",
       "    .dataframe tbody tr th {\n",
       "        vertical-align: top;\n",
       "    }\n",
       "\n",
       "    .dataframe thead th {\n",
       "        text-align: right;\n",
       "    }\n",
       "</style>\n",
       "<table border=\"1\" class=\"dataframe\">\n",
       "  <thead>\n",
       "    <tr style=\"text-align: right;\">\n",
       "      <th></th>\n",
       "      <th>ds</th>\n",
       "      <th>y</th>\n",
       "      <th>Deaths</th>\n",
       "      <th>Recovered</th>\n",
       "      <th>Active</th>\n",
       "    </tr>\n",
       "  </thead>\n",
       "  <tbody>\n",
       "    <tr>\n",
       "      <th>0</th>\n",
       "      <td>2020-01-22</td>\n",
       "      <td>555</td>\n",
       "      <td>17</td>\n",
       "      <td>28</td>\n",
       "      <td>510</td>\n",
       "    </tr>\n",
       "    <tr>\n",
       "      <th>1</th>\n",
       "      <td>2020-01-23</td>\n",
       "      <td>654</td>\n",
       "      <td>18</td>\n",
       "      <td>30</td>\n",
       "      <td>606</td>\n",
       "    </tr>\n",
       "    <tr>\n",
       "      <th>2</th>\n",
       "      <td>2020-01-24</td>\n",
       "      <td>941</td>\n",
       "      <td>26</td>\n",
       "      <td>36</td>\n",
       "      <td>879</td>\n",
       "    </tr>\n",
       "    <tr>\n",
       "      <th>3</th>\n",
       "      <td>2020-01-25</td>\n",
       "      <td>1434</td>\n",
       "      <td>42</td>\n",
       "      <td>39</td>\n",
       "      <td>1353</td>\n",
       "    </tr>\n",
       "    <tr>\n",
       "      <th>4</th>\n",
       "      <td>2020-01-26</td>\n",
       "      <td>2118</td>\n",
       "      <td>56</td>\n",
       "      <td>52</td>\n",
       "      <td>2010</td>\n",
       "    </tr>\n",
       "    <tr>\n",
       "      <th>...</th>\n",
       "      <td>...</td>\n",
       "      <td>...</td>\n",
       "      <td>...</td>\n",
       "      <td>...</td>\n",
       "      <td>...</td>\n",
       "    </tr>\n",
       "    <tr>\n",
       "      <th>183</th>\n",
       "      <td>2020-07-23</td>\n",
       "      <td>15510481</td>\n",
       "      <td>633506</td>\n",
       "      <td>8710969</td>\n",
       "      <td>6166006</td>\n",
       "    </tr>\n",
       "    <tr>\n",
       "      <th>184</th>\n",
       "      <td>2020-07-24</td>\n",
       "      <td>15791645</td>\n",
       "      <td>639650</td>\n",
       "      <td>8939705</td>\n",
       "      <td>6212290</td>\n",
       "    </tr>\n",
       "    <tr>\n",
       "      <th>185</th>\n",
       "      <td>2020-07-25</td>\n",
       "      <td>16047190</td>\n",
       "      <td>644517</td>\n",
       "      <td>9158743</td>\n",
       "      <td>6243930</td>\n",
       "    </tr>\n",
       "    <tr>\n",
       "      <th>186</th>\n",
       "      <td>2020-07-26</td>\n",
       "      <td>16251796</td>\n",
       "      <td>648621</td>\n",
       "      <td>9293464</td>\n",
       "      <td>6309711</td>\n",
       "    </tr>\n",
       "    <tr>\n",
       "      <th>187</th>\n",
       "      <td>2020-07-27</td>\n",
       "      <td>16480485</td>\n",
       "      <td>654036</td>\n",
       "      <td>9468087</td>\n",
       "      <td>6358362</td>\n",
       "    </tr>\n",
       "  </tbody>\n",
       "</table>\n",
       "<p>188 rows × 5 columns</p>\n",
       "</div>"
      ],
      "text/plain": [
       "            ds         y  Deaths  Recovered   Active\n",
       "0   2020-01-22       555      17         28      510\n",
       "1   2020-01-23       654      18         30      606\n",
       "2   2020-01-24       941      26         36      879\n",
       "3   2020-01-25      1434      42         39     1353\n",
       "4   2020-01-26      2118      56         52     2010\n",
       "..         ...       ...     ...        ...      ...\n",
       "183 2020-07-23  15510481  633506    8710969  6166006\n",
       "184 2020-07-24  15791645  639650    8939705  6212290\n",
       "185 2020-07-25  16047190  644517    9158743  6243930\n",
       "186 2020-07-26  16251796  648621    9293464  6309711\n",
       "187 2020-07-27  16480485  654036    9468087  6358362\n",
       "\n",
       "[188 rows x 5 columns]"
      ]
     },
     "execution_count": 24,
     "metadata": {},
     "output_type": "execute_result"
    }
   ],
   "source": [
    "df_prophet"
   ]
  },
  {
   "cell_type": "code",
   "execution_count": 25,
   "id": "8650d1bd",
   "metadata": {
    "id": "8650d1bd",
    "outputId": "b26c7818-5e8f-4f29-834d-3d783a3c6cdd"
   },
   "outputs": [
    {
     "data": {
      "text/plain": [
       "<prophet.forecaster.Prophet at 0x259af6caee0>"
      ]
     },
     "execution_count": 25,
     "metadata": {},
     "output_type": "execute_result"
    }
   ],
   "source": [
    "model"
   ]
  },
  {
   "cell_type": "code",
   "execution_count": 26,
   "id": "df6001e7",
   "metadata": {
    "id": "df6001e7"
   },
   "outputs": [],
   "source": [
    "future_pred = model.make_future_dataframe(periods=100, freq='D')"
   ]
  },
  {
   "cell_type": "code",
   "execution_count": 27,
   "id": "6f6af592",
   "metadata": {
    "id": "6f6af592",
    "outputId": "029b17ee-91f1-49ef-f957-39236f4c5e82"
   },
   "outputs": [
    {
     "data": {
      "text/html": [
       "<div>\n",
       "<style scoped>\n",
       "    .dataframe tbody tr th:only-of-type {\n",
       "        vertical-align: middle;\n",
       "    }\n",
       "\n",
       "    .dataframe tbody tr th {\n",
       "        vertical-align: top;\n",
       "    }\n",
       "\n",
       "    .dataframe thead th {\n",
       "        text-align: right;\n",
       "    }\n",
       "</style>\n",
       "<table border=\"1\" class=\"dataframe\">\n",
       "  <thead>\n",
       "    <tr style=\"text-align: right;\">\n",
       "      <th></th>\n",
       "      <th>ds</th>\n",
       "    </tr>\n",
       "  </thead>\n",
       "  <tbody>\n",
       "    <tr>\n",
       "      <th>0</th>\n",
       "      <td>2020-01-22</td>\n",
       "    </tr>\n",
       "    <tr>\n",
       "      <th>1</th>\n",
       "      <td>2020-01-23</td>\n",
       "    </tr>\n",
       "    <tr>\n",
       "      <th>2</th>\n",
       "      <td>2020-01-24</td>\n",
       "    </tr>\n",
       "    <tr>\n",
       "      <th>3</th>\n",
       "      <td>2020-01-25</td>\n",
       "    </tr>\n",
       "    <tr>\n",
       "      <th>4</th>\n",
       "      <td>2020-01-26</td>\n",
       "    </tr>\n",
       "    <tr>\n",
       "      <th>...</th>\n",
       "      <td>...</td>\n",
       "    </tr>\n",
       "    <tr>\n",
       "      <th>283</th>\n",
       "      <td>2020-10-31</td>\n",
       "    </tr>\n",
       "    <tr>\n",
       "      <th>284</th>\n",
       "      <td>2020-11-01</td>\n",
       "    </tr>\n",
       "    <tr>\n",
       "      <th>285</th>\n",
       "      <td>2020-11-02</td>\n",
       "    </tr>\n",
       "    <tr>\n",
       "      <th>286</th>\n",
       "      <td>2020-11-03</td>\n",
       "    </tr>\n",
       "    <tr>\n",
       "      <th>287</th>\n",
       "      <td>2020-11-04</td>\n",
       "    </tr>\n",
       "  </tbody>\n",
       "</table>\n",
       "<p>288 rows × 1 columns</p>\n",
       "</div>"
      ],
      "text/plain": [
       "            ds\n",
       "0   2020-01-22\n",
       "1   2020-01-23\n",
       "2   2020-01-24\n",
       "3   2020-01-25\n",
       "4   2020-01-26\n",
       "..         ...\n",
       "283 2020-10-31\n",
       "284 2020-11-01\n",
       "285 2020-11-02\n",
       "286 2020-11-03\n",
       "287 2020-11-04\n",
       "\n",
       "[288 rows x 1 columns]"
      ]
     },
     "execution_count": 27,
     "metadata": {},
     "output_type": "execute_result"
    }
   ],
   "source": [
    "future_pred"
   ]
  },
  {
   "cell_type": "markdown",
   "id": "03bbfa37",
   "metadata": {
    "id": "03bbfa37"
   },
   "source": [
    "# Prediting future forecasting"
   ]
  },
  {
   "cell_type": "code",
   "execution_count": 28,
   "id": "069d7482",
   "metadata": {
    "id": "069d7482"
   },
   "outputs": [],
   "source": [
    "prediction = model.predict(future_pred)"
   ]
  },
  {
   "cell_type": "code",
   "execution_count": 29,
   "id": "03ede484",
   "metadata": {
    "id": "03ede484",
    "outputId": "3abd52d4-4795-4572-a080-1aa11fc534cd"
   },
   "outputs": [
    {
     "data": {
      "text/html": [
       "<div>\n",
       "<style scoped>\n",
       "    .dataframe tbody tr th:only-of-type {\n",
       "        vertical-align: middle;\n",
       "    }\n",
       "\n",
       "    .dataframe tbody tr th {\n",
       "        vertical-align: top;\n",
       "    }\n",
       "\n",
       "    .dataframe thead th {\n",
       "        text-align: right;\n",
       "    }\n",
       "</style>\n",
       "<table border=\"1\" class=\"dataframe\">\n",
       "  <thead>\n",
       "    <tr style=\"text-align: right;\">\n",
       "      <th></th>\n",
       "      <th>ds</th>\n",
       "      <th>trend</th>\n",
       "      <th>yhat_lower</th>\n",
       "      <th>yhat_upper</th>\n",
       "      <th>trend_lower</th>\n",
       "      <th>trend_upper</th>\n",
       "      <th>additive_terms</th>\n",
       "      <th>additive_terms_lower</th>\n",
       "      <th>additive_terms_upper</th>\n",
       "      <th>weekly</th>\n",
       "      <th>weekly_lower</th>\n",
       "      <th>weekly_upper</th>\n",
       "      <th>multiplicative_terms</th>\n",
       "      <th>multiplicative_terms_lower</th>\n",
       "      <th>multiplicative_terms_upper</th>\n",
       "      <th>yhat</th>\n",
       "    </tr>\n",
       "  </thead>\n",
       "  <tbody>\n",
       "    <tr>\n",
       "      <th>0</th>\n",
       "      <td>2020-01-22</td>\n",
       "      <td>-9356.185581</td>\n",
       "      <td>-128352.477566</td>\n",
       "      <td>83791.038049</td>\n",
       "      <td>-9356.185581</td>\n",
       "      <td>-9356.185581</td>\n",
       "      <td>-10986.210444</td>\n",
       "      <td>-10986.210444</td>\n",
       "      <td>-10986.210444</td>\n",
       "      <td>-10986.210444</td>\n",
       "      <td>-10986.210444</td>\n",
       "      <td>-10986.210444</td>\n",
       "      <td>0.0</td>\n",
       "      <td>0.0</td>\n",
       "      <td>0.0</td>\n",
       "      <td>-20342.396024</td>\n",
       "    </tr>\n",
       "    <tr>\n",
       "      <th>1</th>\n",
       "      <td>2020-01-23</td>\n",
       "      <td>-6667.733757</td>\n",
       "      <td>-117118.951636</td>\n",
       "      <td>99165.813460</td>\n",
       "      <td>-6667.733757</td>\n",
       "      <td>-6667.733757</td>\n",
       "      <td>-1078.891654</td>\n",
       "      <td>-1078.891654</td>\n",
       "      <td>-1078.891654</td>\n",
       "      <td>-1078.891654</td>\n",
       "      <td>-1078.891654</td>\n",
       "      <td>-1078.891654</td>\n",
       "      <td>0.0</td>\n",
       "      <td>0.0</td>\n",
       "      <td>0.0</td>\n",
       "      <td>-7746.625412</td>\n",
       "    </tr>\n",
       "  </tbody>\n",
       "</table>\n",
       "</div>"
      ],
      "text/plain": [
       "          ds        trend     yhat_lower    yhat_upper  trend_lower  \\\n",
       "0 2020-01-22 -9356.185581 -128352.477566  83791.038049 -9356.185581   \n",
       "1 2020-01-23 -6667.733757 -117118.951636  99165.813460 -6667.733757   \n",
       "\n",
       "   trend_upper  additive_terms  additive_terms_lower  additive_terms_upper  \\\n",
       "0 -9356.185581   -10986.210444         -10986.210444         -10986.210444   \n",
       "1 -6667.733757    -1078.891654          -1078.891654          -1078.891654   \n",
       "\n",
       "         weekly  weekly_lower  weekly_upper  multiplicative_terms  \\\n",
       "0 -10986.210444 -10986.210444 -10986.210444                   0.0   \n",
       "1  -1078.891654  -1078.891654  -1078.891654                   0.0   \n",
       "\n",
       "   multiplicative_terms_lower  multiplicative_terms_upper          yhat  \n",
       "0                         0.0                         0.0 -20342.396024  \n",
       "1                         0.0                         0.0  -7746.625412  "
      ]
     },
     "execution_count": 29,
     "metadata": {},
     "output_type": "execute_result"
    }
   ],
   "source": [
    "prediction.head(2)"
   ]
  },
  {
   "cell_type": "code",
   "execution_count": 30,
   "id": "d2c282f3",
   "metadata": {
    "id": "d2c282f3",
    "outputId": "5c40d803-0020-41cb-9489-b3903483b41f"
   },
   "outputs": [
    {
     "data": {
      "text/html": [
       "<div>\n",
       "<style scoped>\n",
       "    .dataframe tbody tr th:only-of-type {\n",
       "        vertical-align: middle;\n",
       "    }\n",
       "\n",
       "    .dataframe tbody tr th {\n",
       "        vertical-align: top;\n",
       "    }\n",
       "\n",
       "    .dataframe thead th {\n",
       "        text-align: right;\n",
       "    }\n",
       "</style>\n",
       "<table border=\"1\" class=\"dataframe\">\n",
       "  <thead>\n",
       "    <tr style=\"text-align: right;\">\n",
       "      <th></th>\n",
       "      <th>ds</th>\n",
       "      <th>yhat</th>\n",
       "      <th>yhat_lower</th>\n",
       "      <th>yhat_upper</th>\n",
       "    </tr>\n",
       "  </thead>\n",
       "  <tbody>\n",
       "    <tr>\n",
       "      <th>278</th>\n",
       "      <td>2020-10-26</td>\n",
       "      <td>3.472035e+07</td>\n",
       "      <td>3.214226e+07</td>\n",
       "      <td>3.713289e+07</td>\n",
       "    </tr>\n",
       "    <tr>\n",
       "      <th>279</th>\n",
       "      <td>2020-10-27</td>\n",
       "      <td>3.490996e+07</td>\n",
       "      <td>3.229573e+07</td>\n",
       "      <td>3.734209e+07</td>\n",
       "    </tr>\n",
       "    <tr>\n",
       "      <th>280</th>\n",
       "      <td>2020-10-28</td>\n",
       "      <td>3.511999e+07</td>\n",
       "      <td>3.248502e+07</td>\n",
       "      <td>3.758467e+07</td>\n",
       "    </tr>\n",
       "    <tr>\n",
       "      <th>281</th>\n",
       "      <td>2020-10-29</td>\n",
       "      <td>3.533414e+07</td>\n",
       "      <td>3.267232e+07</td>\n",
       "      <td>3.788038e+07</td>\n",
       "    </tr>\n",
       "    <tr>\n",
       "      <th>282</th>\n",
       "      <td>2020-10-30</td>\n",
       "      <td>3.554957e+07</td>\n",
       "      <td>3.278600e+07</td>\n",
       "      <td>3.817269e+07</td>\n",
       "    </tr>\n",
       "    <tr>\n",
       "      <th>283</th>\n",
       "      <td>2020-10-31</td>\n",
       "      <td>3.575737e+07</td>\n",
       "      <td>3.299655e+07</td>\n",
       "      <td>3.837365e+07</td>\n",
       "    </tr>\n",
       "    <tr>\n",
       "      <th>284</th>\n",
       "      <td>2020-11-01</td>\n",
       "      <td>3.595516e+07</td>\n",
       "      <td>3.314665e+07</td>\n",
       "      <td>3.856787e+07</td>\n",
       "    </tr>\n",
       "    <tr>\n",
       "      <th>285</th>\n",
       "      <td>2020-11-02</td>\n",
       "      <td>3.615004e+07</td>\n",
       "      <td>3.329457e+07</td>\n",
       "      <td>3.884727e+07</td>\n",
       "    </tr>\n",
       "    <tr>\n",
       "      <th>286</th>\n",
       "      <td>2020-11-03</td>\n",
       "      <td>3.633964e+07</td>\n",
       "      <td>3.345948e+07</td>\n",
       "      <td>3.908207e+07</td>\n",
       "    </tr>\n",
       "    <tr>\n",
       "      <th>287</th>\n",
       "      <td>2020-11-04</td>\n",
       "      <td>3.654968e+07</td>\n",
       "      <td>3.363487e+07</td>\n",
       "      <td>3.934325e+07</td>\n",
       "    </tr>\n",
       "  </tbody>\n",
       "</table>\n",
       "</div>"
      ],
      "text/plain": [
       "            ds          yhat    yhat_lower    yhat_upper\n",
       "278 2020-10-26  3.472035e+07  3.214226e+07  3.713289e+07\n",
       "279 2020-10-27  3.490996e+07  3.229573e+07  3.734209e+07\n",
       "280 2020-10-28  3.511999e+07  3.248502e+07  3.758467e+07\n",
       "281 2020-10-29  3.533414e+07  3.267232e+07  3.788038e+07\n",
       "282 2020-10-30  3.554957e+07  3.278600e+07  3.817269e+07\n",
       "283 2020-10-31  3.575737e+07  3.299655e+07  3.837365e+07\n",
       "284 2020-11-01  3.595516e+07  3.314665e+07  3.856787e+07\n",
       "285 2020-11-02  3.615004e+07  3.329457e+07  3.884727e+07\n",
       "286 2020-11-03  3.633964e+07  3.345948e+07  3.908207e+07\n",
       "287 2020-11-04  3.654968e+07  3.363487e+07  3.934325e+07"
      ]
     },
     "execution_count": 30,
     "metadata": {},
     "output_type": "execute_result"
    }
   ],
   "source": [
    "prediction[['ds', 'yhat','yhat_lower','yhat_upper']].tail(10)"
   ]
  },
  {
   "cell_type": "code",
   "execution_count": 31,
   "id": "071b7344",
   "metadata": {
    "id": "071b7344",
    "outputId": "081e3da7-a68d-48f0-f05c-8f676abd0277"
   },
   "outputs": [
    {
     "data": {
      "text/plain": [
       "288"
      ]
     },
     "execution_count": 31,
     "metadata": {},
     "output_type": "execute_result"
    }
   ],
   "source": [
    "len(prediction)"
   ]
  },
  {
   "cell_type": "code",
   "execution_count": 32,
   "id": "6b991760",
   "metadata": {
    "id": "6b991760"
   },
   "outputs": [],
   "source": [
    "prediction.to_csv('covid_prediction_dataset.csv')"
   ]
  },
  {
   "cell_type": "code",
   "execution_count": 33,
   "id": "6a4bd9fe",
   "metadata": {
    "id": "6a4bd9fe",
    "outputId": "514bee97-b265-4456-8c72-98458827e414"
   },
   "outputs": [
    {
     "data": {
      "image/png": "[encoded data removed]",
      "text/plain": [
       "<Figure size 720x432 with 1 Axes>"
      ]
     },
     "metadata": {},
     "output_type": "display_data"
    }
   ],
   "source": [
    "# plot the model\n",
    "model.plot(prediction)\n",
    "plt.show()"
   ]
  },
  {
   "cell_type": "code",
   "execution_count": 34,
   "id": "d9e02cfb",
   "metadata": {
    "id": "d9e02cfb",
    "outputId": "98fe33dd-fbb9-49e2-a353-450ac9c64cb7"
   },
   "outputs": [
    {
     "data": {
      "image/png": "[encoded data removed]",
      "text/plain": [
       "<Figure size 648x432 with 2 Axes>"
      ]
     },
     "metadata": {},
     "output_type": "display_data"
    }
   ],
   "source": [
    "model.plot_components(prediction)\n",
    "plt.show()"
   ]
  },
  {
   "cell_type": "markdown",
   "id": "64adf2eb",
   "metadata": {
    "id": "64adf2eb"
   },
   "source": [
    "# To check the performance - cross validation and performance matrix"
   ]
  },
  {
   "cell_type": "code",
   "execution_count": 35,
   "id": "42da9218",
   "metadata": {
    "id": "42da9218"
   },
   "outputs": [],
   "source": [
    "from prophet.diagnostics import cross_validation"
   ]
  },
  {
   "cell_type": "code",
   "execution_count": 36,
   "id": "89fd21fc",
   "metadata": {
    "colab": {
     "referenced_widgets": [
      "bf4b5fedbf9d44dda73f658e3259f8e2"
     ]
    },
    "id": "89fd21fc",
    "outputId": "f230186f-9080-4e9f-a459-025da0ba06d7"
   },
   "outputs": [
    {
     "data": {
      "application/vnd.jupyter.widget-view+json": {
       "model_id": "fc302fe3af7442d08bbb255640d32e44",
       "version_major": 2,
       "version_minor": 0
      },
      "text/plain": [
       "  0%|          | 0/5 [00:00<?, ?it/s]"
      ]
     },
     "metadata": {},
     "output_type": "display_data"
    },
    {
     "name": "stderr",
     "output_type": "stream",
     "text": [
      "13:42:51 - cmdstanpy - INFO - Chain [1] start processing\n",
      "13:42:52 - cmdstanpy - INFO - Chain [1] done processing\n",
      "13:42:52 - cmdstanpy - INFO - Chain [1] start processing\n",
      "13:42:52 - cmdstanpy - INFO - Chain [1] done processing\n",
      "13:42:52 - cmdstanpy - INFO - Chain [1] start processing\n",
      "13:42:52 - cmdstanpy - INFO - Chain [1] done processing\n",
      "13:42:53 - cmdstanpy - INFO - Chain [1] start processing\n",
      "13:42:53 - cmdstanpy - INFO - Chain [1] done processing\n",
      "13:42:53 - cmdstanpy - INFO - Chain [1] start processing\n",
      "13:42:53 - cmdstanpy - INFO - Chain [1] done processing\n"
     ]
    }
   ],
   "source": [
    "df_cv = cross_validation(model, horizon='30 days', period = '15 days', initial='90 days')"
   ]
  },
  {
   "cell_type": "code",
   "execution_count": 37,
   "id": "c089f4c8",
   "metadata": {
    "id": "c089f4c8",
    "outputId": "24a43fc2-2400-4ad2-d2c0-35906341db1a"
   },
   "outputs": [
    {
     "data": {
      "text/html": [
       "<div>\n",
       "<style scoped>\n",
       "    .dataframe tbody tr th:only-of-type {\n",
       "        vertical-align: middle;\n",
       "    }\n",
       "\n",
       "    .dataframe tbody tr th {\n",
       "        vertical-align: top;\n",
       "    }\n",
       "\n",
       "    .dataframe thead th {\n",
       "        text-align: right;\n",
       "    }\n",
       "</style>\n",
       "<table border=\"1\" class=\"dataframe\">\n",
       "  <thead>\n",
       "    <tr style=\"text-align: right;\">\n",
       "      <th></th>\n",
       "      <th>ds</th>\n",
       "      <th>yhat</th>\n",
       "      <th>yhat_lower</th>\n",
       "      <th>yhat_upper</th>\n",
       "      <th>y</th>\n",
       "      <th>cutoff</th>\n",
       "    </tr>\n",
       "  </thead>\n",
       "  <tbody>\n",
       "    <tr>\n",
       "      <th>0</th>\n",
       "      <td>2020-04-29</td>\n",
       "      <td>3.201064e+06</td>\n",
       "      <td>3.195663e+06</td>\n",
       "      <td>3.206089e+06</td>\n",
       "      <td>3185195</td>\n",
       "      <td>2020-04-28</td>\n",
       "    </tr>\n",
       "    <tr>\n",
       "      <th>1</th>\n",
       "      <td>2020-04-30</td>\n",
       "      <td>3.285432e+06</td>\n",
       "      <td>3.279164e+06</td>\n",
       "      <td>3.291526e+06</td>\n",
       "      <td>3268876</td>\n",
       "      <td>2020-04-28</td>\n",
       "    </tr>\n",
       "    <tr>\n",
       "      <th>2</th>\n",
       "      <td>2020-05-01</td>\n",
       "      <td>3.369640e+06</td>\n",
       "      <td>3.361233e+06</td>\n",
       "      <td>3.377613e+06</td>\n",
       "      <td>3355922</td>\n",
       "      <td>2020-04-28</td>\n",
       "    </tr>\n",
       "    <tr>\n",
       "      <th>3</th>\n",
       "      <td>2020-05-02</td>\n",
       "      <td>3.450902e+06</td>\n",
       "      <td>3.437960e+06</td>\n",
       "      <td>3.461283e+06</td>\n",
       "      <td>3437608</td>\n",
       "      <td>2020-04-28</td>\n",
       "    </tr>\n",
       "    <tr>\n",
       "      <th>4</th>\n",
       "      <td>2020-05-03</td>\n",
       "      <td>3.530365e+06</td>\n",
       "      <td>3.511545e+06</td>\n",
       "      <td>3.545406e+06</td>\n",
       "      <td>3515244</td>\n",
       "      <td>2020-04-28</td>\n",
       "    </tr>\n",
       "    <tr>\n",
       "      <th>...</th>\n",
       "      <td>...</td>\n",
       "      <td>...</td>\n",
       "      <td>...</td>\n",
       "      <td>...</td>\n",
       "      <td>...</td>\n",
       "      <td>...</td>\n",
       "    </tr>\n",
       "    <tr>\n",
       "      <th>145</th>\n",
       "      <td>2020-07-23</td>\n",
       "      <td>1.314570e+07</td>\n",
       "      <td>1.287753e+07</td>\n",
       "      <td>1.338760e+07</td>\n",
       "      <td>15510481</td>\n",
       "      <td>2020-06-27</td>\n",
       "    </tr>\n",
       "    <tr>\n",
       "      <th>146</th>\n",
       "      <td>2020-07-24</td>\n",
       "      <td>1.328508e+07</td>\n",
       "      <td>1.299093e+07</td>\n",
       "      <td>1.354650e+07</td>\n",
       "      <td>15791645</td>\n",
       "      <td>2020-06-27</td>\n",
       "    </tr>\n",
       "    <tr>\n",
       "      <th>147</th>\n",
       "      <td>2020-07-25</td>\n",
       "      <td>1.342126e+07</td>\n",
       "      <td>1.311795e+07</td>\n",
       "      <td>1.368606e+07</td>\n",
       "      <td>16047190</td>\n",
       "      <td>2020-06-27</td>\n",
       "    </tr>\n",
       "    <tr>\n",
       "      <th>148</th>\n",
       "      <td>2020-07-26</td>\n",
       "      <td>1.353973e+07</td>\n",
       "      <td>1.321686e+07</td>\n",
       "      <td>1.382314e+07</td>\n",
       "      <td>16251796</td>\n",
       "      <td>2020-06-27</td>\n",
       "    </tr>\n",
       "    <tr>\n",
       "      <th>149</th>\n",
       "      <td>2020-07-27</td>\n",
       "      <td>1.366495e+07</td>\n",
       "      <td>1.332797e+07</td>\n",
       "      <td>1.396241e+07</td>\n",
       "      <td>16480485</td>\n",
       "      <td>2020-06-27</td>\n",
       "    </tr>\n",
       "  </tbody>\n",
       "</table>\n",
       "<p>150 rows × 6 columns</p>\n",
       "</div>"
      ],
      "text/plain": [
       "            ds          yhat    yhat_lower    yhat_upper         y     cutoff\n",
       "0   2020-04-29  3.201064e+06  3.195663e+06  3.206089e+06   3185195 2020-04-28\n",
       "1   2020-04-30  3.285432e+06  3.279164e+06  3.291526e+06   3268876 2020-04-28\n",
       "2   2020-05-01  3.369640e+06  3.361233e+06  3.377613e+06   3355922 2020-04-28\n",
       "3   2020-05-02  3.450902e+06  3.437960e+06  3.461283e+06   3437608 2020-04-28\n",
       "4   2020-05-03  3.530365e+06  3.511545e+06  3.545406e+06   3515244 2020-04-28\n",
       "..         ...           ...           ...           ...       ...        ...\n",
       "145 2020-07-23  1.314570e+07  1.287753e+07  1.338760e+07  15510481 2020-06-27\n",
       "146 2020-07-24  1.328508e+07  1.299093e+07  1.354650e+07  15791645 2020-06-27\n",
       "147 2020-07-25  1.342126e+07  1.311795e+07  1.368606e+07  16047190 2020-06-27\n",
       "148 2020-07-26  1.353973e+07  1.321686e+07  1.382314e+07  16251796 2020-06-27\n",
       "149 2020-07-27  1.366495e+07  1.332797e+07  1.396241e+07  16480485 2020-06-27\n",
       "\n",
       "[150 rows x 6 columns]"
      ]
     },
     "execution_count": 37,
     "metadata": {},
     "output_type": "execute_result"
    }
   ],
   "source": [
    "df_cv"
   ]
  },
  {
   "cell_type": "code",
   "execution_count": 38,
   "id": "602c0b77",
   "metadata": {
    "id": "602c0b77"
   },
   "outputs": [],
   "source": [
    "from prophet.diagnostics import performance_metrics"
   ]
  },
  {
   "cell_type": "code",
   "execution_count": 39,
   "id": "58c085f4",
   "metadata": {
    "id": "58c085f4"
   },
   "outputs": [],
   "source": [
    "df_performance = performance_metrics(df_cv)"
   ]
  },
  {
   "cell_type": "code",
   "execution_count": 40,
   "id": "54551bce",
   "metadata": {
    "id": "54551bce",
    "outputId": "867822d1-3a92-452a-80af-b1ac4e39625b"
   },
   "outputs": [
    {
     "data": {
      "text/html": [
       "<div>\n",
       "<style scoped>\n",
       "    .dataframe tbody tr th:only-of-type {\n",
       "        vertical-align: middle;\n",
       "    }\n",
       "\n",
       "    .dataframe tbody tr th {\n",
       "        vertical-align: top;\n",
       "    }\n",
       "\n",
       "    .dataframe thead th {\n",
       "        text-align: right;\n",
       "    }\n",
       "</style>\n",
       "<table border=\"1\" class=\"dataframe\">\n",
       "  <thead>\n",
       "    <tr style=\"text-align: right;\">\n",
       "      <th></th>\n",
       "      <th>horizon</th>\n",
       "      <th>mse</th>\n",
       "      <th>rmse</th>\n",
       "      <th>mae</th>\n",
       "      <th>mape</th>\n",
       "      <th>mdape</th>\n",
       "      <th>smape</th>\n",
       "      <th>coverage</th>\n",
       "    </tr>\n",
       "  </thead>\n",
       "  <tbody>\n",
       "    <tr>\n",
       "      <th>0</th>\n",
       "      <td>3 days</td>\n",
       "      <td>2.747964e+10</td>\n",
       "      <td>1.657699e+05</td>\n",
       "      <td>1.296060e+05</td>\n",
       "      <td>0.016905</td>\n",
       "      <td>0.017661</td>\n",
       "      <td>0.017089</td>\n",
       "      <td>0.000000</td>\n",
       "    </tr>\n",
       "    <tr>\n",
       "      <th>1</th>\n",
       "      <td>4 days</td>\n",
       "      <td>3.803963e+10</td>\n",
       "      <td>1.950375e+05</td>\n",
       "      <td>1.518207e+05</td>\n",
       "      <td>0.019368</td>\n",
       "      <td>0.022477</td>\n",
       "      <td>0.019615</td>\n",
       "      <td>0.000000</td>\n",
       "    </tr>\n",
       "    <tr>\n",
       "      <th>2</th>\n",
       "      <td>5 days</td>\n",
       "      <td>5.212547e+10</td>\n",
       "      <td>2.283100e+05</td>\n",
       "      <td>1.756745e+05</td>\n",
       "      <td>0.021819</td>\n",
       "      <td>0.025671</td>\n",
       "      <td>0.022140</td>\n",
       "      <td>0.066667</td>\n",
       "    </tr>\n",
       "    <tr>\n",
       "      <th>3</th>\n",
       "      <td>6 days</td>\n",
       "      <td>6.989523e+10</td>\n",
       "      <td>2.643771e+05</td>\n",
       "      <td>2.026728e+05</td>\n",
       "      <td>0.024597</td>\n",
       "      <td>0.026657</td>\n",
       "      <td>0.025010</td>\n",
       "      <td>0.133333</td>\n",
       "    </tr>\n",
       "    <tr>\n",
       "      <th>4</th>\n",
       "      <td>7 days</td>\n",
       "      <td>9.074055e+10</td>\n",
       "      <td>3.012317e+05</td>\n",
       "      <td>2.330360e+05</td>\n",
       "      <td>0.027880</td>\n",
       "      <td>0.031214</td>\n",
       "      <td>0.028407</td>\n",
       "      <td>0.200000</td>\n",
       "    </tr>\n",
       "    <tr>\n",
       "      <th>5</th>\n",
       "      <td>8 days</td>\n",
       "      <td>1.152889e+11</td>\n",
       "      <td>3.395422e+05</td>\n",
       "      <td>2.649129e+05</td>\n",
       "      <td>0.031190</td>\n",
       "      <td>0.034881</td>\n",
       "      <td>0.031852</td>\n",
       "      <td>0.200000</td>\n",
       "    </tr>\n",
       "    <tr>\n",
       "      <th>6</th>\n",
       "      <td>9 days</td>\n",
       "      <td>1.409779e+11</td>\n",
       "      <td>3.754703e+05</td>\n",
       "      <td>2.962453e+05</td>\n",
       "      <td>0.034378</td>\n",
       "      <td>0.038875</td>\n",
       "      <td>0.035184</td>\n",
       "      <td>0.200000</td>\n",
       "    </tr>\n",
       "    <tr>\n",
       "      <th>7</th>\n",
       "      <td>10 days</td>\n",
       "      <td>1.698196e+11</td>\n",
       "      <td>4.120917e+05</td>\n",
       "      <td>3.269999e+05</td>\n",
       "      <td>0.037422</td>\n",
       "      <td>0.043999</td>\n",
       "      <td>0.038377</td>\n",
       "      <td>0.200000</td>\n",
       "    </tr>\n",
       "    <tr>\n",
       "      <th>8</th>\n",
       "      <td>11 days</td>\n",
       "      <td>2.024475e+11</td>\n",
       "      <td>4.499416e+05</td>\n",
       "      <td>3.580224e+05</td>\n",
       "      <td>0.040417</td>\n",
       "      <td>0.048941</td>\n",
       "      <td>0.041523</td>\n",
       "      <td>0.200000</td>\n",
       "    </tr>\n",
       "    <tr>\n",
       "      <th>9</th>\n",
       "      <td>12 days</td>\n",
       "      <td>2.451897e+11</td>\n",
       "      <td>4.951663e+05</td>\n",
       "      <td>3.933422e+05</td>\n",
       "      <td>0.043595</td>\n",
       "      <td>0.052031</td>\n",
       "      <td>0.044882</td>\n",
       "      <td>0.200000</td>\n",
       "    </tr>\n",
       "    <tr>\n",
       "      <th>10</th>\n",
       "      <td>13 days</td>\n",
       "      <td>2.967503e+11</td>\n",
       "      <td>5.447479e+05</td>\n",
       "      <td>4.316213e+05</td>\n",
       "      <td>0.046848</td>\n",
       "      <td>0.054317</td>\n",
       "      <td>0.048345</td>\n",
       "      <td>0.200000</td>\n",
       "    </tr>\n",
       "    <tr>\n",
       "      <th>11</th>\n",
       "      <td>14 days</td>\n",
       "      <td>3.566604e+11</td>\n",
       "      <td>5.972105e+05</td>\n",
       "      <td>4.734983e+05</td>\n",
       "      <td>0.050409</td>\n",
       "      <td>0.059642</td>\n",
       "      <td>0.052151</td>\n",
       "      <td>0.200000</td>\n",
       "    </tr>\n",
       "    <tr>\n",
       "      <th>12</th>\n",
       "      <td>15 days</td>\n",
       "      <td>4.215440e+11</td>\n",
       "      <td>6.492642e+05</td>\n",
       "      <td>5.174454e+05</td>\n",
       "      <td>0.054275</td>\n",
       "      <td>0.065035</td>\n",
       "      <td>0.056285</td>\n",
       "      <td>0.200000</td>\n",
       "    </tr>\n",
       "    <tr>\n",
       "      <th>13</th>\n",
       "      <td>16 days</td>\n",
       "      <td>4.879986e+11</td>\n",
       "      <td>6.985690e+05</td>\n",
       "      <td>5.618496e+05</td>\n",
       "      <td>0.058338</td>\n",
       "      <td>0.070398</td>\n",
       "      <td>0.060624</td>\n",
       "      <td>0.200000</td>\n",
       "    </tr>\n",
       "    <tr>\n",
       "      <th>14</th>\n",
       "      <td>17 days</td>\n",
       "      <td>5.608405e+11</td>\n",
       "      <td>7.488928e+05</td>\n",
       "      <td>6.084286e+05</td>\n",
       "      <td>0.062681</td>\n",
       "      <td>0.074864</td>\n",
       "      <td>0.065271</td>\n",
       "      <td>0.200000</td>\n",
       "    </tr>\n",
       "    <tr>\n",
       "      <th>15</th>\n",
       "      <td>18 days</td>\n",
       "      <td>6.421398e+11</td>\n",
       "      <td>8.013362e+05</td>\n",
       "      <td>6.560567e+05</td>\n",
       "      <td>0.066979</td>\n",
       "      <td>0.079286</td>\n",
       "      <td>0.069884</td>\n",
       "      <td>0.200000</td>\n",
       "    </tr>\n",
       "    <tr>\n",
       "      <th>16</th>\n",
       "      <td>19 days</td>\n",
       "      <td>7.448721e+11</td>\n",
       "      <td>8.630597e+05</td>\n",
       "      <td>7.085195e+05</td>\n",
       "      <td>0.071290</td>\n",
       "      <td>0.082219</td>\n",
       "      <td>0.074564</td>\n",
       "      <td>0.200000</td>\n",
       "    </tr>\n",
       "    <tr>\n",
       "      <th>17</th>\n",
       "      <td>20 days</td>\n",
       "      <td>8.626832e+11</td>\n",
       "      <td>9.288074e+05</td>\n",
       "      <td>7.636582e+05</td>\n",
       "      <td>0.075578</td>\n",
       "      <td>0.087273</td>\n",
       "      <td>0.079252</td>\n",
       "      <td>0.200000</td>\n",
       "    </tr>\n",
       "    <tr>\n",
       "      <th>18</th>\n",
       "      <td>21 days</td>\n",
       "      <td>9.944265e+11</td>\n",
       "      <td>9.972094e+05</td>\n",
       "      <td>8.222483e+05</td>\n",
       "      <td>0.080081</td>\n",
       "      <td>0.091803</td>\n",
       "      <td>0.084196</td>\n",
       "      <td>0.200000</td>\n",
       "    </tr>\n",
       "    <tr>\n",
       "      <th>19</th>\n",
       "      <td>22 days</td>\n",
       "      <td>1.134585e+12</td>\n",
       "      <td>1.065169e+06</td>\n",
       "      <td>8.840200e+05</td>\n",
       "      <td>0.085066</td>\n",
       "      <td>0.095399</td>\n",
       "      <td>0.089663</td>\n",
       "      <td>0.200000</td>\n",
       "    </tr>\n",
       "    <tr>\n",
       "      <th>20</th>\n",
       "      <td>23 days</td>\n",
       "      <td>1.278218e+12</td>\n",
       "      <td>1.130583e+06</td>\n",
       "      <td>9.454548e+05</td>\n",
       "      <td>0.090019</td>\n",
       "      <td>0.103769</td>\n",
       "      <td>0.095106</td>\n",
       "      <td>0.200000</td>\n",
       "    </tr>\n",
       "    <tr>\n",
       "      <th>21</th>\n",
       "      <td>24 days</td>\n",
       "      <td>1.426512e+12</td>\n",
       "      <td>1.194367e+06</td>\n",
       "      <td>1.006376e+06</td>\n",
       "      <td>0.094882</td>\n",
       "      <td>0.109397</td>\n",
       "      <td>0.100465</td>\n",
       "      <td>0.200000</td>\n",
       "    </tr>\n",
       "    <tr>\n",
       "      <th>22</th>\n",
       "      <td>25 days</td>\n",
       "      <td>1.596328e+12</td>\n",
       "      <td>1.263459e+06</td>\n",
       "      <td>1.068628e+06</td>\n",
       "      <td>0.099512</td>\n",
       "      <td>0.112317</td>\n",
       "      <td>0.105605</td>\n",
       "      <td>0.200000</td>\n",
       "    </tr>\n",
       "    <tr>\n",
       "      <th>23</th>\n",
       "      <td>26 days</td>\n",
       "      <td>1.799031e+12</td>\n",
       "      <td>1.341279e+06</td>\n",
       "      <td>1.135487e+06</td>\n",
       "      <td>0.104134</td>\n",
       "      <td>0.116265</td>\n",
       "      <td>0.110786</td>\n",
       "      <td>0.200000</td>\n",
       "    </tr>\n",
       "    <tr>\n",
       "      <th>24</th>\n",
       "      <td>27 days</td>\n",
       "      <td>2.041096e+12</td>\n",
       "      <td>1.428669e+06</td>\n",
       "      <td>1.209464e+06</td>\n",
       "      <td>0.108993</td>\n",
       "      <td>0.122512</td>\n",
       "      <td>0.116289</td>\n",
       "      <td>0.200000</td>\n",
       "    </tr>\n",
       "    <tr>\n",
       "      <th>25</th>\n",
       "      <td>28 days</td>\n",
       "      <td>2.299079e+12</td>\n",
       "      <td>1.516271e+06</td>\n",
       "      <td>1.285320e+06</td>\n",
       "      <td>0.113879</td>\n",
       "      <td>0.128725</td>\n",
       "      <td>0.121859</td>\n",
       "      <td>0.200000</td>\n",
       "    </tr>\n",
       "    <tr>\n",
       "      <th>26</th>\n",
       "      <td>29 days</td>\n",
       "      <td>2.560990e+12</td>\n",
       "      <td>1.600309e+06</td>\n",
       "      <td>1.361817e+06</td>\n",
       "      <td>0.118894</td>\n",
       "      <td>0.134813</td>\n",
       "      <td>0.127589</td>\n",
       "      <td>0.200000</td>\n",
       "    </tr>\n",
       "    <tr>\n",
       "      <th>27</th>\n",
       "      <td>30 days</td>\n",
       "      <td>2.818727e+12</td>\n",
       "      <td>1.678906e+06</td>\n",
       "      <td>1.436142e+06</td>\n",
       "      <td>0.123822</td>\n",
       "      <td>0.142419</td>\n",
       "      <td>0.133215</td>\n",
       "      <td>0.133333</td>\n",
       "    </tr>\n",
       "  </tbody>\n",
       "</table>\n",
       "</div>"
      ],
      "text/plain": [
       "   horizon           mse          rmse           mae      mape     mdape  \\\n",
       "0   3 days  2.747964e+10  1.657699e+05  1.296060e+05  0.016905  0.017661   \n",
       "1   4 days  3.803963e+10  1.950375e+05  1.518207e+05  0.019368  0.022477   \n",
       "2   5 days  5.212547e+10  2.283100e+05  1.756745e+05  0.021819  0.025671   \n",
       "3   6 days  6.989523e+10  2.643771e+05  2.026728e+05  0.024597  0.026657   \n",
       "4   7 days  9.074055e+10  3.012317e+05  2.330360e+05  0.027880  0.031214   \n",
       "5   8 days  1.152889e+11  3.395422e+05  2.649129e+05  0.031190  0.034881   \n",
       "6   9 days  1.409779e+11  3.754703e+05  2.962453e+05  0.034378  0.038875   \n",
       "7  10 days  1.698196e+11  4.120917e+05  3.269999e+05  0.037422  0.043999   \n",
       "8  11 days  2.024475e+11  4.499416e+05  3.580224e+05  0.040417  0.048941   \n",
       "9  12 days  2.451897e+11  4.951663e+05  3.933422e+05  0.043595  0.052031   \n",
       "10 13 days  2.967503e+11  5.447479e+05  4.316213e+05  0.046848  0.054317   \n",
       "11 14 days  3.566604e+11  5.972105e+05  4.734983e+05  0.050409  0.059642   \n",
       "12 15 days  4.215440e+11  6.492642e+05  5.174454e+05  0.054275  0.065035   \n",
       "13 16 days  4.879986e+11  6.985690e+05  5.618496e+05  0.058338  0.070398   \n",
       "14 17 days  5.608405e+11  7.488928e+05  6.084286e+05  0.062681  0.074864   \n",
       "15 18 days  6.421398e+11  8.013362e+05  6.560567e+05  0.066979  0.079286   \n",
       "16 19 days  7.448721e+11  8.630597e+05  7.085195e+05  0.071290  0.082219   \n",
       "17 20 days  8.626832e+11  9.288074e+05  7.636582e+05  0.075578  0.087273   \n",
       "18 21 days  9.944265e+11  9.972094e+05  8.222483e+05  0.080081  0.091803   \n",
       "19 22 days  1.134585e+12  1.065169e+06  8.840200e+05  0.085066  0.095399   \n",
       "20 23 days  1.278218e+12  1.130583e+06  9.454548e+05  0.090019  0.103769   \n",
       "21 24 days  1.426512e+12  1.194367e+06  1.006376e+06  0.094882  0.109397   \n",
       "22 25 days  1.596328e+12  1.263459e+06  1.068628e+06  0.099512  0.112317   \n",
       "23 26 days  1.799031e+12  1.341279e+06  1.135487e+06  0.104134  0.116265   \n",
       "24 27 days  2.041096e+12  1.428669e+06  1.209464e+06  0.108993  0.122512   \n",
       "25 28 days  2.299079e+12  1.516271e+06  1.285320e+06  0.113879  0.128725   \n",
       "26 29 days  2.560990e+12  1.600309e+06  1.361817e+06  0.118894  0.134813   \n",
       "27 30 days  2.818727e+12  1.678906e+06  1.436142e+06  0.123822  0.142419   \n",
       "\n",
       "       smape  coverage  \n",
       "0   0.017089  0.000000  \n",
       "1   0.019615  0.000000  \n",
       "2   0.022140  0.066667  \n",
       "3   0.025010  0.133333  \n",
       "4   0.028407  0.200000  \n",
       "5   0.031852  0.200000  \n",
       "6   0.035184  0.200000  \n",
       "7   0.038377  0.200000  \n",
       "8   0.041523  0.200000  \n",
       "9   0.044882  0.200000  \n",
       "10  0.048345  0.200000  \n",
       "11  0.052151  0.200000  \n",
       "12  0.056285  0.200000  \n",
       "13  0.060624  0.200000  \n",
       "14  0.065271  0.200000  \n",
       "15  0.069884  0.200000  \n",
       "16  0.074564  0.200000  \n",
       "17  0.079252  0.200000  \n",
       "18  0.084196  0.200000  \n",
       "19  0.089663  0.200000  \n",
       "20  0.095106  0.200000  \n",
       "21  0.100465  0.200000  \n",
       "22  0.105605  0.200000  \n",
       "23  0.110786  0.200000  \n",
       "24  0.116289  0.200000  \n",
       "25  0.121859  0.200000  \n",
       "26  0.127589  0.200000  \n",
       "27  0.133215  0.133333  "
      ]
     },
     "execution_count": 40,
     "metadata": {},
     "output_type": "execute_result"
    }
   ],
   "source": [
    "df_performance"
   ]
  },
  {
   "cell_type": "markdown",
   "id": "ee3d461d",
   "metadata": {
    "id": "ee3d461d"
   },
   "source": [
    "# visualize"
   ]
  },
  {
   "cell_type": "code",
   "execution_count": 41,
   "id": "3c6f98c0",
   "metadata": {
    "id": "3c6f98c0"
   },
   "outputs": [],
   "source": [
    "from prophet.plot import plot_cross_validation_metric"
   ]
  },
  {
   "cell_type": "code",
   "execution_count": 42,
   "id": "d3f31d21",
   "metadata": {
    "id": "d3f31d21",
    "outputId": "f80f1713-66c2-4719-bc7c-66d3de439592"
   },
   "outputs": [
    {
     "data": {
      "image/png": "[encoded data removed]",
      "text/plain": [
       "<Figure size 720x432 with 1 Axes>"
      ]
     },
     "metadata": {},
     "output_type": "display_data"
    }
   ],
   "source": [
    "df_performance = plot_cross_validation_metric(df_cv, metric = 'mape')"
   ]
  }
 ],
 "metadata": {
  "colab": {
   "provenance": []
  },
  "kernelspec": {
   "display_name": "Python 3 (ipykernel)",
   "language": "python",
   "name": "python3"
  },
  "language_info": {
   "codemirror_mode": {
    "name": "ipython",
    "version": 3
   },
   "file_extension": ".py",
   "mimetype": "text/x-python",
   "name": "python",
   "nbconvert_exporter": "python",
   "pygments_lexer": "ipython3",
   "version": "3.9.12"
  }
 },
 "nbformat": 4,
 "nbformat_minor": 5
}
