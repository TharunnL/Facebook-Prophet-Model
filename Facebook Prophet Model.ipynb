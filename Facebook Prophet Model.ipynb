{
  "cells": [
    {
      "cell_type": "code",
      "execution_count": null,
      "id": "9dbe3562",
      "metadata": {
        "id": "9dbe3562"
      },
      "outputs": [],
      "source": [
        "import os, sys\n",
        "import numpy as np\n",
        "import pandas as pd\n",
        "import matplotlib.pyplot as plt\n",
        "%matplotlib inline\n",
        "import seaborn as sns\n",
        "sns.set()\n",
        "\n",
        "import warnings\n",
        "warnings.filterwarnings('ignore')\n",
        "from datetime import datetime"
      ]
    },
    {
      "cell_type": "code",
      "execution_count": null,
      "id": "213f3e2a",
      "metadata": {
        "id": "213f3e2a",
        "outputId": "b243aba1-75d5-4656-930c-d711a70e4193"
      },
      "outputs": [
        {
          "data": {
            "text/html": [
              "<div>\n",
              "<style scoped>\n",
              "    .dataframe tbody tr th:only-of-type {\n",
              "        vertical-align: middle;\n",
              "    }\n",
              "\n",
              "    .dataframe tbody tr th {\n",
              "        vertical-align: top;\n",
              "    }\n",
              "\n",
              "    .dataframe thead th {\n",
              "        text-align: right;\n",
              "    }\n",
              "</style>\n",
              "<table border=\"1\" class=\"dataframe\">\n",
              "  <thead>\n",
              "    <tr style=\"text-align: right;\">\n",
              "      <th></th>\n",
              "      <th>Province/State</th>\n",
              "      <th>Country/Region</th>\n",
              "      <th>Lat</th>\n",
              "      <th>Long</th>\n",
              "      <th>Date</th>\n",
              "      <th>Confirmed</th>\n",
              "      <th>Deaths</th>\n",
              "      <th>Recovered</th>\n",
              "      <th>Active</th>\n",
              "      <th>WHO Region</th>\n",
              "    </tr>\n",
              "  </thead>\n",
              "  <tbody>\n",
              "    <tr>\n",
              "      <th>0</th>\n",
              "      <td>NaN</td>\n",
              "      <td>Afghanistan</td>\n",
              "      <td>33.93911</td>\n",
              "      <td>67.709953</td>\n",
              "      <td>2020-01-22</td>\n",
              "      <td>0</td>\n",
              "      <td>0</td>\n",
              "      <td>0</td>\n",
              "      <td>0</td>\n",
              "      <td>Eastern Mediterranean</td>\n",
              "    </tr>\n",
              "    <tr>\n",
              "      <th>1</th>\n",
              "      <td>NaN</td>\n",
              "      <td>Albania</td>\n",
              "      <td>41.15330</td>\n",
              "      <td>20.168300</td>\n",
              "      <td>2020-01-22</td>\n",
              "      <td>0</td>\n",
              "      <td>0</td>\n",
              "      <td>0</td>\n",
              "      <td>0</td>\n",
              "      <td>Europe</td>\n",
              "    </tr>\n",
              "    <tr>\n",
              "      <th>2</th>\n",
              "      <td>NaN</td>\n",
              "      <td>Algeria</td>\n",
              "      <td>28.03390</td>\n",
              "      <td>1.659600</td>\n",
              "      <td>2020-01-22</td>\n",
              "      <td>0</td>\n",
              "      <td>0</td>\n",
              "      <td>0</td>\n",
              "      <td>0</td>\n",
              "      <td>Africa</td>\n",
              "    </tr>\n",
              "    <tr>\n",
              "      <th>3</th>\n",
              "      <td>NaN</td>\n",
              "      <td>Andorra</td>\n",
              "      <td>42.50630</td>\n",
              "      <td>1.521800</td>\n",
              "      <td>2020-01-22</td>\n",
              "      <td>0</td>\n",
              "      <td>0</td>\n",
              "      <td>0</td>\n",
              "      <td>0</td>\n",
              "      <td>Europe</td>\n",
              "    </tr>\n",
              "    <tr>\n",
              "      <th>4</th>\n",
              "      <td>NaN</td>\n",
              "      <td>Angola</td>\n",
              "      <td>-11.20270</td>\n",
              "      <td>17.873900</td>\n",
              "      <td>2020-01-22</td>\n",
              "      <td>0</td>\n",
              "      <td>0</td>\n",
              "      <td>0</td>\n",
              "      <td>0</td>\n",
              "      <td>Africa</td>\n",
              "    </tr>\n",
              "  </tbody>\n",
              "</table>\n",
              "</div>"
            ],
            "text/plain": [
              "  Province/State Country/Region       Lat       Long        Date  Confirmed  \\\n",
              "0            NaN    Afghanistan  33.93911  67.709953  2020-01-22          0   \n",
              "1            NaN        Albania  41.15330  20.168300  2020-01-22          0   \n",
              "2            NaN        Algeria  28.03390   1.659600  2020-01-22          0   \n",
              "3            NaN        Andorra  42.50630   1.521800  2020-01-22          0   \n",
              "4            NaN         Angola -11.20270  17.873900  2020-01-22          0   \n",
              "\n",
              "   Deaths  Recovered  Active             WHO Region  \n",
              "0       0          0       0  Eastern Mediterranean  \n",
              "1       0          0       0                 Europe  \n",
              "2       0          0       0                 Africa  \n",
              "3       0          0       0                 Europe  \n",
              "4       0          0       0                 Africa  "
            ]
          },
          "execution_count": 2,
          "metadata": {},
          "output_type": "execute_result"
        }
      ],
      "source": [
        "covid_data = pd.read_csv('covid_19_clean_complete.csv')\n",
        "covid_data.head()"
      ]
    },
    {
      "cell_type": "code",
      "execution_count": null,
      "id": "db7ec6b7",
      "metadata": {
        "id": "db7ec6b7",
        "outputId": "14e01dde-d62e-4afb-8591-a7aec20117ab"
      },
      "outputs": [
        {
          "data": {
            "text/html": [
              "<div>\n",
              "<style scoped>\n",
              "    .dataframe tbody tr th:only-of-type {\n",
              "        vertical-align: middle;\n",
              "    }\n",
              "\n",
              "    .dataframe tbody tr th {\n",
              "        vertical-align: top;\n",
              "    }\n",
              "\n",
              "    .dataframe thead th {\n",
              "        text-align: right;\n",
              "    }\n",
              "</style>\n",
              "<table border=\"1\" class=\"dataframe\">\n",
              "  <thead>\n",
              "    <tr style=\"text-align: right;\">\n",
              "      <th></th>\n",
              "      <th>Province/State</th>\n",
              "      <th>Country/Region</th>\n",
              "      <th>Lat</th>\n",
              "      <th>Long</th>\n",
              "      <th>Date</th>\n",
              "      <th>Confirmed</th>\n",
              "      <th>Deaths</th>\n",
              "      <th>Recovered</th>\n",
              "      <th>Active</th>\n",
              "      <th>WHO Region</th>\n",
              "    </tr>\n",
              "  </thead>\n",
              "  <tbody>\n",
              "    <tr>\n",
              "      <th>49063</th>\n",
              "      <td>NaN</td>\n",
              "      <td>Sao Tome and Principe</td>\n",
              "      <td>0.186400</td>\n",
              "      <td>6.613100</td>\n",
              "      <td>2020-07-27</td>\n",
              "      <td>865</td>\n",
              "      <td>14</td>\n",
              "      <td>734</td>\n",
              "      <td>117</td>\n",
              "      <td>Africa</td>\n",
              "    </tr>\n",
              "    <tr>\n",
              "      <th>49064</th>\n",
              "      <td>NaN</td>\n",
              "      <td>Yemen</td>\n",
              "      <td>15.552727</td>\n",
              "      <td>48.516388</td>\n",
              "      <td>2020-07-27</td>\n",
              "      <td>1691</td>\n",
              "      <td>483</td>\n",
              "      <td>833</td>\n",
              "      <td>375</td>\n",
              "      <td>Eastern Mediterranean</td>\n",
              "    </tr>\n",
              "    <tr>\n",
              "      <th>49065</th>\n",
              "      <td>NaN</td>\n",
              "      <td>Comoros</td>\n",
              "      <td>-11.645500</td>\n",
              "      <td>43.333300</td>\n",
              "      <td>2020-07-27</td>\n",
              "      <td>354</td>\n",
              "      <td>7</td>\n",
              "      <td>328</td>\n",
              "      <td>19</td>\n",
              "      <td>Africa</td>\n",
              "    </tr>\n",
              "    <tr>\n",
              "      <th>49066</th>\n",
              "      <td>NaN</td>\n",
              "      <td>Tajikistan</td>\n",
              "      <td>38.861000</td>\n",
              "      <td>71.276100</td>\n",
              "      <td>2020-07-27</td>\n",
              "      <td>7235</td>\n",
              "      <td>60</td>\n",
              "      <td>6028</td>\n",
              "      <td>1147</td>\n",
              "      <td>Europe</td>\n",
              "    </tr>\n",
              "    <tr>\n",
              "      <th>49067</th>\n",
              "      <td>NaN</td>\n",
              "      <td>Lesotho</td>\n",
              "      <td>-29.610000</td>\n",
              "      <td>28.233600</td>\n",
              "      <td>2020-07-27</td>\n",
              "      <td>505</td>\n",
              "      <td>12</td>\n",
              "      <td>128</td>\n",
              "      <td>365</td>\n",
              "      <td>Africa</td>\n",
              "    </tr>\n",
              "  </tbody>\n",
              "</table>\n",
              "</div>"
            ],
            "text/plain": [
              "      Province/State         Country/Region        Lat       Long       Date  \\\n",
              "49063            NaN  Sao Tome and Principe   0.186400   6.613100 2020-07-27   \n",
              "49064            NaN                  Yemen  15.552727  48.516388 2020-07-27   \n",
              "49065            NaN                Comoros -11.645500  43.333300 2020-07-27   \n",
              "49066            NaN             Tajikistan  38.861000  71.276100 2020-07-27   \n",
              "49067            NaN                Lesotho -29.610000  28.233600 2020-07-27   \n",
              "\n",
              "       Confirmed  Deaths  Recovered  Active             WHO Region  \n",
              "49063        865      14        734     117                 Africa  \n",
              "49064       1691     483        833     375  Eastern Mediterranean  \n",
              "49065        354       7        328      19                 Africa  \n",
              "49066       7235      60       6028    1147                 Europe  \n",
              "49067        505      12        128     365                 Africa  "
            ]
          },
          "execution_count": 14,
          "metadata": {},
          "output_type": "execute_result"
        }
      ],
      "source": [
        "covid_data.tail()"
      ]
    },
    {
      "cell_type": "code",
      "execution_count": null,
      "id": "e0962a86",
      "metadata": {
        "id": "e0962a86",
        "outputId": "a131dbeb-1eb8-42af-8046-db32f60e76a5"
      },
      "outputs": [
        {
          "data": {
            "text/plain": [
              "Province/State    34404\n",
              "Country/Region        0\n",
              "Lat                   0\n",
              "Long                  0\n",
              "Date                  0\n",
              "Confirmed             0\n",
              "Deaths                0\n",
              "Recovered             0\n",
              "Active                0\n",
              "WHO Region            0\n",
              "dtype: int64"
            ]
          },
          "execution_count": 3,
          "metadata": {},
          "output_type": "execute_result"
        }
      ],
      "source": [
        "covid_data.isnull().sum()"
      ]
    },
    {
      "cell_type": "code",
      "execution_count": null,
      "id": "1eaec44f",
      "metadata": {
        "id": "1eaec44f",
        "outputId": "ea18d197-da2a-4967-b62c-ca364e133e14"
      },
      "outputs": [
        {
          "name": "stdout",
          "output_type": "stream",
          "text": [
            "<class 'pandas.core.frame.DataFrame'>\n",
            "RangeIndex: 49068 entries, 0 to 49067\n",
            "Data columns (total 10 columns):\n",
            " #   Column          Non-Null Count  Dtype         \n",
            "---  ------          --------------  -----         \n",
            " 0   Province/State  14664 non-null  object        \n",
            " 1   Country/Region  49068 non-null  object        \n",
            " 2   Lat             49068 non-null  float64       \n",
            " 3   Long            49068 non-null  float64       \n",
            " 4   Date            49068 non-null  datetime64[ns]\n",
            " 5   Confirmed       49068 non-null  int64         \n",
            " 6   Deaths          49068 non-null  int64         \n",
            " 7   Recovered       49068 non-null  int64         \n",
            " 8   Active          49068 non-null  int64         \n",
            " 9   WHO Region      49068 non-null  object        \n",
            "dtypes: datetime64[ns](1), float64(2), int64(4), object(3)\n",
            "memory usage: 3.7+ MB\n"
          ]
        }
      ],
      "source": [
        "covid_data.info()"
      ]
    },
    {
      "cell_type": "code",
      "execution_count": null,
      "id": "43cfc5c4",
      "metadata": {
        "id": "43cfc5c4"
      },
      "outputs": [],
      "source": [
        "covid_data['Date'] = pd.to_datetime(covid_data['Date'])"
      ]
    },
    {
      "cell_type": "code",
      "execution_count": null,
      "id": "d788ef44",
      "metadata": {
        "id": "d788ef44"
      },
      "outputs": [],
      "source": []
    },
    {
      "cell_type": "code",
      "execution_count": null,
      "id": "c1ff3fc1",
      "metadata": {
        "id": "c1ff3fc1"
      },
      "outputs": [],
      "source": [
        "\"\"\"\n",
        " 5   Confirmed       49068 non-null  int64\n",
        " 6   Deaths          49068 non-null  int64\n",
        " 7   Recovered       49068 non-null  int64\n",
        " 8   Active          49068 non-null  int64\n",
        " \"\"\""
      ]
    },
    {
      "cell_type": "code",
      "execution_count": null,
      "id": "b01e0764",
      "metadata": {
        "id": "b01e0764"
      },
      "outputs": [],
      "source": [
        "import statsmodels.api as sm"
      ]
    },
    {
      "cell_type": "code",
      "execution_count": null,
      "id": "5d645f8f",
      "metadata": {
        "id": "5d645f8f",
        "outputId": "ff9321c2-41c0-4f68-e30d-9c118c936127"
      },
      "outputs": [
        {
          "data": {
            "text/plain": [
              "1.9582652252691064"
            ]
          },
          "execution_count": 8,
          "metadata": {},
          "output_type": "execute_result"
        }
      ],
      "source": [
        "sm.stats.durbin_watson(covid_data['Confirmed'])"
      ]
    },
    {
      "cell_type": "code",
      "execution_count": null,
      "id": "19408f99",
      "metadata": {
        "id": "19408f99",
        "outputId": "4f68b30e-980c-4d68-ddd3-95469a828a8a"
      },
      "outputs": [
        {
          "data": {
            "text/plain": [
              "1.9783752272041735"
            ]
          },
          "execution_count": 9,
          "metadata": {},
          "output_type": "execute_result"
        }
      ],
      "source": [
        "sm.stats.durbin_watson(covid_data['Deaths'])"
      ]
    },
    {
      "cell_type": "code",
      "execution_count": null,
      "id": "589b6ef6",
      "metadata": {
        "id": "589b6ef6",
        "outputId": "88ea7e21-a62f-46a5-a41c-39f1c6a9ffe7"
      },
      "outputs": [
        {
          "data": {
            "text/plain": [
              "1.9275412897470758"
            ]
          },
          "execution_count": 10,
          "metadata": {},
          "output_type": "execute_result"
        }
      ],
      "source": [
        "Recovered"
      ]
    },
    {
      "cell_type": "code",
      "execution_count": null,
      "id": "98f68e42",
      "metadata": {
        "id": "98f68e42",
        "outputId": "dc0518a8-9c95-4dbe-89b9-9441aa09ebda"
      },
      "outputs": [
        {
          "data": {
            "text/plain": [
              "1.9827116482632792"
            ]
          },
          "execution_count": 11,
          "metadata": {},
          "output_type": "execute_result"
        }
      ],
      "source": [
        "sm.stats.durbin_watson(covid_data['Active'])"
      ]
    },
    {
      "cell_type": "code",
      "execution_count": null,
      "id": "c5814bac",
      "metadata": {
        "id": "c5814bac",
        "outputId": "0a5a4ba4-1d4c-4107-d337-7a84843bc8d6"
      },
      "outputs": [
        {
          "data": {
            "text/html": [
              "<div>\n",
              "<style scoped>\n",
              "    .dataframe tbody tr th:only-of-type {\n",
              "        vertical-align: middle;\n",
              "    }\n",
              "\n",
              "    .dataframe tbody tr th {\n",
              "        vertical-align: top;\n",
              "    }\n",
              "\n",
              "    .dataframe thead th {\n",
              "        text-align: right;\n",
              "    }\n",
              "</style>\n",
              "<table border=\"1\" class=\"dataframe\">\n",
              "  <thead>\n",
              "    <tr style=\"text-align: right;\">\n",
              "      <th></th>\n",
              "      <th>Lat</th>\n",
              "      <th>Long</th>\n",
              "      <th>Confirmed</th>\n",
              "      <th>Deaths</th>\n",
              "      <th>Recovered</th>\n",
              "      <th>Active</th>\n",
              "    </tr>\n",
              "  </thead>\n",
              "  <tbody>\n",
              "    <tr>\n",
              "      <th>count</th>\n",
              "      <td>49068.000000</td>\n",
              "      <td>49068.000000</td>\n",
              "      <td>4.906800e+04</td>\n",
              "      <td>49068.000000</td>\n",
              "      <td>4.906800e+04</td>\n",
              "      <td>4.906800e+04</td>\n",
              "    </tr>\n",
              "    <tr>\n",
              "      <th>mean</th>\n",
              "      <td>21.433730</td>\n",
              "      <td>23.528236</td>\n",
              "      <td>1.688490e+04</td>\n",
              "      <td>884.179160</td>\n",
              "      <td>7.915713e+03</td>\n",
              "      <td>8.085012e+03</td>\n",
              "    </tr>\n",
              "    <tr>\n",
              "      <th>std</th>\n",
              "      <td>24.950320</td>\n",
              "      <td>70.442740</td>\n",
              "      <td>1.273002e+05</td>\n",
              "      <td>6313.584411</td>\n",
              "      <td>5.480092e+04</td>\n",
              "      <td>7.625890e+04</td>\n",
              "    </tr>\n",
              "    <tr>\n",
              "      <th>min</th>\n",
              "      <td>-51.796300</td>\n",
              "      <td>-135.000000</td>\n",
              "      <td>0.000000e+00</td>\n",
              "      <td>0.000000</td>\n",
              "      <td>0.000000e+00</td>\n",
              "      <td>-1.400000e+01</td>\n",
              "    </tr>\n",
              "    <tr>\n",
              "      <th>25%</th>\n",
              "      <td>7.873054</td>\n",
              "      <td>-15.310100</td>\n",
              "      <td>4.000000e+00</td>\n",
              "      <td>0.000000</td>\n",
              "      <td>0.000000e+00</td>\n",
              "      <td>0.000000e+00</td>\n",
              "    </tr>\n",
              "    <tr>\n",
              "      <th>50%</th>\n",
              "      <td>23.634500</td>\n",
              "      <td>21.745300</td>\n",
              "      <td>1.680000e+02</td>\n",
              "      <td>2.000000</td>\n",
              "      <td>2.900000e+01</td>\n",
              "      <td>2.600000e+01</td>\n",
              "    </tr>\n",
              "    <tr>\n",
              "      <th>75%</th>\n",
              "      <td>41.204380</td>\n",
              "      <td>80.771797</td>\n",
              "      <td>1.518250e+03</td>\n",
              "      <td>30.000000</td>\n",
              "      <td>6.660000e+02</td>\n",
              "      <td>6.060000e+02</td>\n",
              "    </tr>\n",
              "    <tr>\n",
              "      <th>max</th>\n",
              "      <td>71.706900</td>\n",
              "      <td>178.065000</td>\n",
              "      <td>4.290259e+06</td>\n",
              "      <td>148011.000000</td>\n",
              "      <td>1.846641e+06</td>\n",
              "      <td>2.816444e+06</td>\n",
              "    </tr>\n",
              "  </tbody>\n",
              "</table>\n",
              "</div>"
            ],
            "text/plain": [
              "                Lat          Long     Confirmed         Deaths     Recovered  \\\n",
              "count  49068.000000  49068.000000  4.906800e+04   49068.000000  4.906800e+04   \n",
              "mean      21.433730     23.528236  1.688490e+04     884.179160  7.915713e+03   \n",
              "std       24.950320     70.442740  1.273002e+05    6313.584411  5.480092e+04   \n",
              "min      -51.796300   -135.000000  0.000000e+00       0.000000  0.000000e+00   \n",
              "25%        7.873054    -15.310100  4.000000e+00       0.000000  0.000000e+00   \n",
              "50%       23.634500     21.745300  1.680000e+02       2.000000  2.900000e+01   \n",
              "75%       41.204380     80.771797  1.518250e+03      30.000000  6.660000e+02   \n",
              "max       71.706900    178.065000  4.290259e+06  148011.000000  1.846641e+06   \n",
              "\n",
              "             Active  \n",
              "count  4.906800e+04  \n",
              "mean   8.085012e+03  \n",
              "std    7.625890e+04  \n",
              "min   -1.400000e+01  \n",
              "25%    0.000000e+00  \n",
              "50%    2.600000e+01  \n",
              "75%    6.060000e+02  \n",
              "max    2.816444e+06  "
            ]
          },
          "execution_count": 12,
          "metadata": {},
          "output_type": "execute_result"
        }
      ],
      "source": [
        "covid_data.describe()"
      ]
    },
    {
      "cell_type": "code",
      "execution_count": null,
      "id": "6018e5b7",
      "metadata": {
        "id": "6018e5b7",
        "outputId": "bf1416c0-406f-4f80-c0fa-0216b6d66b8a"
      },
      "outputs": [
        {
          "data": {
            "text/plain": [
              "188"
            ]
          },
          "execution_count": 13,
          "metadata": {},
          "output_type": "execute_result"
        }
      ],
      "source": [
        "covid_data['Date'].nunique()"
      ]
    },
    {
      "cell_type": "code",
      "execution_count": null,
      "id": "a282c936",
      "metadata": {
        "id": "a282c936"
      },
      "outputs": [],
      "source": []
    },
    {
      "cell_type": "code",
      "execution_count": null,
      "id": "c866ad95",
      "metadata": {
        "id": "c866ad95"
      },
      "outputs": [],
      "source": [
        "# Group the country details basis date\n",
        "total = covid_data.groupby(['Date'])['Confirmed','Deaths','Recovered','Active'].sum().reset_index()"
      ]
    },
    {
      "cell_type": "code",
      "execution_count": null,
      "id": "1f2f8200",
      "metadata": {
        "id": "1f2f8200",
        "outputId": "65d97f3d-2f42-4b03-9dd5-5c171eebea45"
      },
      "outputs": [
        {
          "data": {
            "text/html": [
              "<div>\n",
              "<style scoped>\n",
              "    .dataframe tbody tr th:only-of-type {\n",
              "        vertical-align: middle;\n",
              "    }\n",
              "\n",
              "    .dataframe tbody tr th {\n",
              "        vertical-align: top;\n",
              "    }\n",
              "\n",
              "    .dataframe thead th {\n",
              "        text-align: right;\n",
              "    }\n",
              "</style>\n",
              "<table border=\"1\" class=\"dataframe\">\n",
              "  <thead>\n",
              "    <tr style=\"text-align: right;\">\n",
              "      <th></th>\n",
              "      <th>Date</th>\n",
              "      <th>Confirmed</th>\n",
              "      <th>Deaths</th>\n",
              "      <th>Recovered</th>\n",
              "      <th>Active</th>\n",
              "    </tr>\n",
              "  </thead>\n",
              "  <tbody>\n",
              "    <tr>\n",
              "      <th>0</th>\n",
              "      <td>2020-01-22</td>\n",
              "      <td>555</td>\n",
              "      <td>17</td>\n",
              "      <td>28</td>\n",
              "      <td>510</td>\n",
              "    </tr>\n",
              "    <tr>\n",
              "      <th>1</th>\n",
              "      <td>2020-01-23</td>\n",
              "      <td>654</td>\n",
              "      <td>18</td>\n",
              "      <td>30</td>\n",
              "      <td>606</td>\n",
              "    </tr>\n",
              "    <tr>\n",
              "      <th>2</th>\n",
              "      <td>2020-01-24</td>\n",
              "      <td>941</td>\n",
              "      <td>26</td>\n",
              "      <td>36</td>\n",
              "      <td>879</td>\n",
              "    </tr>\n",
              "    <tr>\n",
              "      <th>3</th>\n",
              "      <td>2020-01-25</td>\n",
              "      <td>1434</td>\n",
              "      <td>42</td>\n",
              "      <td>39</td>\n",
              "      <td>1353</td>\n",
              "    </tr>\n",
              "    <tr>\n",
              "      <th>4</th>\n",
              "      <td>2020-01-26</td>\n",
              "      <td>2118</td>\n",
              "      <td>56</td>\n",
              "      <td>52</td>\n",
              "      <td>2010</td>\n",
              "    </tr>\n",
              "    <tr>\n",
              "      <th>...</th>\n",
              "      <td>...</td>\n",
              "      <td>...</td>\n",
              "      <td>...</td>\n",
              "      <td>...</td>\n",
              "      <td>...</td>\n",
              "    </tr>\n",
              "    <tr>\n",
              "      <th>183</th>\n",
              "      <td>2020-07-23</td>\n",
              "      <td>15510481</td>\n",
              "      <td>633506</td>\n",
              "      <td>8710969</td>\n",
              "      <td>6166006</td>\n",
              "    </tr>\n",
              "    <tr>\n",
              "      <th>184</th>\n",
              "      <td>2020-07-24</td>\n",
              "      <td>15791645</td>\n",
              "      <td>639650</td>\n",
              "      <td>8939705</td>\n",
              "      <td>6212290</td>\n",
              "    </tr>\n",
              "    <tr>\n",
              "      <th>185</th>\n",
              "      <td>2020-07-25</td>\n",
              "      <td>16047190</td>\n",
              "      <td>644517</td>\n",
              "      <td>9158743</td>\n",
              "      <td>6243930</td>\n",
              "    </tr>\n",
              "    <tr>\n",
              "      <th>186</th>\n",
              "      <td>2020-07-26</td>\n",
              "      <td>16251796</td>\n",
              "      <td>648621</td>\n",
              "      <td>9293464</td>\n",
              "      <td>6309711</td>\n",
              "    </tr>\n",
              "    <tr>\n",
              "      <th>187</th>\n",
              "      <td>2020-07-27</td>\n",
              "      <td>16480485</td>\n",
              "      <td>654036</td>\n",
              "      <td>9468087</td>\n",
              "      <td>6358362</td>\n",
              "    </tr>\n",
              "  </tbody>\n",
              "</table>\n",
              "<p>188 rows × 5 columns</p>\n",
              "</div>"
            ],
            "text/plain": [
              "          Date  Confirmed  Deaths  Recovered   Active\n",
              "0   2020-01-22        555      17         28      510\n",
              "1   2020-01-23        654      18         30      606\n",
              "2   2020-01-24        941      26         36      879\n",
              "3   2020-01-25       1434      42         39     1353\n",
              "4   2020-01-26       2118      56         52     2010\n",
              "..         ...        ...     ...        ...      ...\n",
              "183 2020-07-23   15510481  633506    8710969  6166006\n",
              "184 2020-07-24   15791645  639650    8939705  6212290\n",
              "185 2020-07-25   16047190  644517    9158743  6243930\n",
              "186 2020-07-26   16251796  648621    9293464  6309711\n",
              "187 2020-07-27   16480485  654036    9468087  6358362\n",
              "\n",
              "[188 rows x 5 columns]"
            ]
          },
          "execution_count": 16,
          "metadata": {},
          "output_type": "execute_result"
        }
      ],
      "source": [
        "total"
      ]
    },
    {
      "cell_type": "markdown",
      "id": "1712267d",
      "metadata": {
        "id": "1712267d"
      },
      "source": [
        "# Import Facebook Prophet Model"
      ]
    },
    {
      "cell_type": "code",
      "execution_count": null,
      "id": "cb0a0493",
      "metadata": {
        "id": "cb0a0493"
      },
      "outputs": [],
      "source": [
        "#!pip install pystan"
      ]
    },
    {
      "cell_type": "code",
      "execution_count": null,
      "id": "13d4bde6",
      "metadata": {
        "id": "13d4bde6"
      },
      "outputs": [],
      "source": [
        "#!python -m pip install prophet"
      ]
    },
    {
      "cell_type": "code",
      "execution_count": null,
      "id": "b6c1f765",
      "metadata": {
        "id": "b6c1f765"
      },
      "outputs": [],
      "source": [
        "import prophet"
      ]
    },
    {
      "cell_type": "code",
      "execution_count": null,
      "id": "ccc4a022",
      "metadata": {
        "id": "ccc4a022",
        "outputId": "c7515ebb-b1ed-4d55-fe93-74e734417f43"
      },
      "outputs": [
        {
          "data": {
            "text/plain": [
              "['Path',\n",
              " 'Prophet',\n",
              " '__builtins__',\n",
              " '__cached__',\n",
              " '__doc__',\n",
              " '__file__',\n",
              " '__loader__',\n",
              " '__name__',\n",
              " '__package__',\n",
              " '__path__',\n",
              " '__spec__',\n",
              " '__version__',\n",
              " 'about',\n",
              " 'diagnostics',\n",
              " 'f',\n",
              " 'forecaster',\n",
              " 'hdays',\n",
              " 'here',\n",
              " 'make_holidays',\n",
              " 'models',\n",
              " 'plot']"
            ]
          },
          "execution_count": 18,
          "metadata": {},
          "output_type": "execute_result"
        }
      ],
      "source": [
        "dir(prophet)"
      ]
    },
    {
      "cell_type": "markdown",
      "id": "011b33a7",
      "metadata": {
        "id": "011b33a7"
      },
      "source": [
        "![image.png](attachment:image.png)"
      ]
    },
    {
      "cell_type": "code",
      "execution_count": null,
      "id": "2960fbb9",
      "metadata": {
        "id": "2960fbb9"
      },
      "outputs": [],
      "source": [
        "df_prophet = total.rename(columns={'Date':'ds', 'Confirmed':'y'})"
      ]
    },
    {
      "cell_type": "code",
      "execution_count": null,
      "id": "2e95fb3c",
      "metadata": {
        "id": "2e95fb3c",
        "outputId": "fe6c6f30-d138-4a6d-e777-70b9b5f4a794"
      },
      "outputs": [
        {
          "data": {
            "text/html": [
              "<div>\n",
              "<style scoped>\n",
              "    .dataframe tbody tr th:only-of-type {\n",
              "        vertical-align: middle;\n",
              "    }\n",
              "\n",
              "    .dataframe tbody tr th {\n",
              "        vertical-align: top;\n",
              "    }\n",
              "\n",
              "    .dataframe thead th {\n",
              "        text-align: right;\n",
              "    }\n",
              "</style>\n",
              "<table border=\"1\" class=\"dataframe\">\n",
              "  <thead>\n",
              "    <tr style=\"text-align: right;\">\n",
              "      <th></th>\n",
              "      <th>ds</th>\n",
              "      <th>y</th>\n",
              "      <th>Deaths</th>\n",
              "      <th>Recovered</th>\n",
              "      <th>Active</th>\n",
              "    </tr>\n",
              "  </thead>\n",
              "  <tbody>\n",
              "    <tr>\n",
              "      <th>0</th>\n",
              "      <td>2020-01-22</td>\n",
              "      <td>555</td>\n",
              "      <td>17</td>\n",
              "      <td>28</td>\n",
              "      <td>510</td>\n",
              "    </tr>\n",
              "    <tr>\n",
              "      <th>1</th>\n",
              "      <td>2020-01-23</td>\n",
              "      <td>654</td>\n",
              "      <td>18</td>\n",
              "      <td>30</td>\n",
              "      <td>606</td>\n",
              "    </tr>\n",
              "    <tr>\n",
              "      <th>2</th>\n",
              "      <td>2020-01-24</td>\n",
              "      <td>941</td>\n",
              "      <td>26</td>\n",
              "      <td>36</td>\n",
              "      <td>879</td>\n",
              "    </tr>\n",
              "    <tr>\n",
              "      <th>3</th>\n",
              "      <td>2020-01-25</td>\n",
              "      <td>1434</td>\n",
              "      <td>42</td>\n",
              "      <td>39</td>\n",
              "      <td>1353</td>\n",
              "    </tr>\n",
              "    <tr>\n",
              "      <th>4</th>\n",
              "      <td>2020-01-26</td>\n",
              "      <td>2118</td>\n",
              "      <td>56</td>\n",
              "      <td>52</td>\n",
              "      <td>2010</td>\n",
              "    </tr>\n",
              "    <tr>\n",
              "      <th>...</th>\n",
              "      <td>...</td>\n",
              "      <td>...</td>\n",
              "      <td>...</td>\n",
              "      <td>...</td>\n",
              "      <td>...</td>\n",
              "    </tr>\n",
              "    <tr>\n",
              "      <th>183</th>\n",
              "      <td>2020-07-23</td>\n",
              "      <td>15510481</td>\n",
              "      <td>633506</td>\n",
              "      <td>8710969</td>\n",
              "      <td>6166006</td>\n",
              "    </tr>\n",
              "    <tr>\n",
              "      <th>184</th>\n",
              "      <td>2020-07-24</td>\n",
              "      <td>15791645</td>\n",
              "      <td>639650</td>\n",
              "      <td>8939705</td>\n",
              "      <td>6212290</td>\n",
              "    </tr>\n",
              "    <tr>\n",
              "      <th>185</th>\n",
              "      <td>2020-07-25</td>\n",
              "      <td>16047190</td>\n",
              "      <td>644517</td>\n",
              "      <td>9158743</td>\n",
              "      <td>6243930</td>\n",
              "    </tr>\n",
              "    <tr>\n",
              "      <th>186</th>\n",
              "      <td>2020-07-26</td>\n",
              "      <td>16251796</td>\n",
              "      <td>648621</td>\n",
              "      <td>9293464</td>\n",
              "      <td>6309711</td>\n",
              "    </tr>\n",
              "    <tr>\n",
              "      <th>187</th>\n",
              "      <td>2020-07-27</td>\n",
              "      <td>16480485</td>\n",
              "      <td>654036</td>\n",
              "      <td>9468087</td>\n",
              "      <td>6358362</td>\n",
              "    </tr>\n",
              "  </tbody>\n",
              "</table>\n",
              "<p>188 rows × 5 columns</p>\n",
              "</div>"
            ],
            "text/plain": [
              "            ds         y  Deaths  Recovered   Active\n",
              "0   2020-01-22       555      17         28      510\n",
              "1   2020-01-23       654      18         30      606\n",
              "2   2020-01-24       941      26         36      879\n",
              "3   2020-01-25      1434      42         39     1353\n",
              "4   2020-01-26      2118      56         52     2010\n",
              "..         ...       ...     ...        ...      ...\n",
              "183 2020-07-23  15510481  633506    8710969  6166006\n",
              "184 2020-07-24  15791645  639650    8939705  6212290\n",
              "185 2020-07-25  16047190  644517    9158743  6243930\n",
              "186 2020-07-26  16251796  648621    9293464  6309711\n",
              "187 2020-07-27  16480485  654036    9468087  6358362\n",
              "\n",
              "[188 rows x 5 columns]"
            ]
          },
          "execution_count": 20,
          "metadata": {},
          "output_type": "execute_result"
        }
      ],
      "source": [
        "df_prophet"
      ]
    },
    {
      "cell_type": "code",
      "execution_count": null,
      "id": "948792b4",
      "metadata": {
        "id": "948792b4",
        "outputId": "ca5ae184-bb41-4cc1-ab0f-f563d30b19ad"
      },
      "outputs": [
        {
          "name": "stderr",
          "output_type": "stream",
          "text": [
            "09:09:37 - cmdstanpy - INFO - Chain [1] start processing\n",
            "09:09:47 - cmdstanpy - INFO - Chain [1] done processing\n"
          ]
        }
      ],
      "source": [
        "from prophet import Prophet\n",
        "m = Prophet()\n",
        "model = m.fit(df_prophet)"
      ]
    },
    {
      "cell_type": "code",
      "execution_count": null,
      "id": "5c0bf296",
      "metadata": {
        "id": "5c0bf296",
        "outputId": "b668e825-d08b-4996-c6ad-4394d92af4ec"
      },
      "outputs": [
        {
          "data": {
            "text/plain": [
              "OrderedDict([('weekly',\n",
              "              {'period': 7,\n",
              "               'fourier_order': 3,\n",
              "               'prior_scale': 10.0,\n",
              "               'mode': 'additive',\n",
              "               'condition_name': None})])"
            ]
          },
          "execution_count": 23,
          "metadata": {},
          "output_type": "execute_result"
        }
      ],
      "source": [
        "model.seasonalities"
      ]
    },
    {
      "cell_type": "code",
      "execution_count": null,
      "id": "38ec448a",
      "metadata": {
        "id": "38ec448a",
        "outputId": "c5c47beb-5b88-4a1d-e1cb-9e3b419e2ab8"
      },
      "outputs": [
        {
          "data": {
            "text/plain": [
              "188"
            ]
          },
          "execution_count": 24,
          "metadata": {},
          "output_type": "execute_result"
        }
      ],
      "source": [
        "len(df_prophet)"
      ]
    },
    {
      "cell_type": "code",
      "execution_count": null,
      "id": "5388e404",
      "metadata": {
        "id": "5388e404",
        "outputId": "f361571a-2d6a-4021-9cad-1fe768d03538"
      },
      "outputs": [
        {
          "data": {
            "text/html": [
              "<div>\n",
              "<style scoped>\n",
              "    .dataframe tbody tr th:only-of-type {\n",
              "        vertical-align: middle;\n",
              "    }\n",
              "\n",
              "    .dataframe tbody tr th {\n",
              "        vertical-align: top;\n",
              "    }\n",
              "\n",
              "    .dataframe thead th {\n",
              "        text-align: right;\n",
              "    }\n",
              "</style>\n",
              "<table border=\"1\" class=\"dataframe\">\n",
              "  <thead>\n",
              "    <tr style=\"text-align: right;\">\n",
              "      <th></th>\n",
              "      <th>ds</th>\n",
              "      <th>y</th>\n",
              "      <th>Deaths</th>\n",
              "      <th>Recovered</th>\n",
              "      <th>Active</th>\n",
              "    </tr>\n",
              "  </thead>\n",
              "  <tbody>\n",
              "    <tr>\n",
              "      <th>0</th>\n",
              "      <td>2020-01-22</td>\n",
              "      <td>555</td>\n",
              "      <td>17</td>\n",
              "      <td>28</td>\n",
              "      <td>510</td>\n",
              "    </tr>\n",
              "    <tr>\n",
              "      <th>1</th>\n",
              "      <td>2020-01-23</td>\n",
              "      <td>654</td>\n",
              "      <td>18</td>\n",
              "      <td>30</td>\n",
              "      <td>606</td>\n",
              "    </tr>\n",
              "    <tr>\n",
              "      <th>2</th>\n",
              "      <td>2020-01-24</td>\n",
              "      <td>941</td>\n",
              "      <td>26</td>\n",
              "      <td>36</td>\n",
              "      <td>879</td>\n",
              "    </tr>\n",
              "    <tr>\n",
              "      <th>3</th>\n",
              "      <td>2020-01-25</td>\n",
              "      <td>1434</td>\n",
              "      <td>42</td>\n",
              "      <td>39</td>\n",
              "      <td>1353</td>\n",
              "    </tr>\n",
              "    <tr>\n",
              "      <th>4</th>\n",
              "      <td>2020-01-26</td>\n",
              "      <td>2118</td>\n",
              "      <td>56</td>\n",
              "      <td>52</td>\n",
              "      <td>2010</td>\n",
              "    </tr>\n",
              "    <tr>\n",
              "      <th>...</th>\n",
              "      <td>...</td>\n",
              "      <td>...</td>\n",
              "      <td>...</td>\n",
              "      <td>...</td>\n",
              "      <td>...</td>\n",
              "    </tr>\n",
              "    <tr>\n",
              "      <th>183</th>\n",
              "      <td>2020-07-23</td>\n",
              "      <td>15510481</td>\n",
              "      <td>633506</td>\n",
              "      <td>8710969</td>\n",
              "      <td>6166006</td>\n",
              "    </tr>\n",
              "    <tr>\n",
              "      <th>184</th>\n",
              "      <td>2020-07-24</td>\n",
              "      <td>15791645</td>\n",
              "      <td>639650</td>\n",
              "      <td>8939705</td>\n",
              "      <td>6212290</td>\n",
              "    </tr>\n",
              "    <tr>\n",
              "      <th>185</th>\n",
              "      <td>2020-07-25</td>\n",
              "      <td>16047190</td>\n",
              "      <td>644517</td>\n",
              "      <td>9158743</td>\n",
              "      <td>6243930</td>\n",
              "    </tr>\n",
              "    <tr>\n",
              "      <th>186</th>\n",
              "      <td>2020-07-26</td>\n",
              "      <td>16251796</td>\n",
              "      <td>648621</td>\n",
              "      <td>9293464</td>\n",
              "      <td>6309711</td>\n",
              "    </tr>\n",
              "    <tr>\n",
              "      <th>187</th>\n",
              "      <td>2020-07-27</td>\n",
              "      <td>16480485</td>\n",
              "      <td>654036</td>\n",
              "      <td>9468087</td>\n",
              "      <td>6358362</td>\n",
              "    </tr>\n",
              "  </tbody>\n",
              "</table>\n",
              "<p>188 rows × 5 columns</p>\n",
              "</div>"
            ],
            "text/plain": [
              "            ds         y  Deaths  Recovered   Active\n",
              "0   2020-01-22       555      17         28      510\n",
              "1   2020-01-23       654      18         30      606\n",
              "2   2020-01-24       941      26         36      879\n",
              "3   2020-01-25      1434      42         39     1353\n",
              "4   2020-01-26      2118      56         52     2010\n",
              "..         ...       ...     ...        ...      ...\n",
              "183 2020-07-23  15510481  633506    8710969  6166006\n",
              "184 2020-07-24  15791645  639650    8939705  6212290\n",
              "185 2020-07-25  16047190  644517    9158743  6243930\n",
              "186 2020-07-26  16251796  648621    9293464  6309711\n",
              "187 2020-07-27  16480485  654036    9468087  6358362\n",
              "\n",
              "[188 rows x 5 columns]"
            ]
          },
          "execution_count": 26,
          "metadata": {},
          "output_type": "execute_result"
        }
      ],
      "source": [
        "df_prophet"
      ]
    },
    {
      "cell_type": "code",
      "execution_count": null,
      "id": "8650d1bd",
      "metadata": {
        "id": "8650d1bd",
        "outputId": "b26c7818-5e8f-4f29-834d-3d783a3c6cdd"
      },
      "outputs": [
        {
          "data": {
            "text/plain": [
              "<prophet.forecaster.Prophet at 0x1f33c200ac0>"
            ]
          },
          "execution_count": 25,
          "metadata": {},
          "output_type": "execute_result"
        }
      ],
      "source": [
        "model"
      ]
    },
    {
      "cell_type": "code",
      "execution_count": null,
      "id": "df6001e7",
      "metadata": {
        "id": "df6001e7"
      },
      "outputs": [],
      "source": [
        "future_pred = model.make_future_dataframe(periods=100, freq='D')"
      ]
    },
    {
      "cell_type": "code",
      "execution_count": null,
      "id": "6f6af592",
      "metadata": {
        "id": "6f6af592",
        "outputId": "029b17ee-91f1-49ef-f957-39236f4c5e82"
      },
      "outputs": [
        {
          "data": {
            "text/html": [
              "<div>\n",
              "<style scoped>\n",
              "    .dataframe tbody tr th:only-of-type {\n",
              "        vertical-align: middle;\n",
              "    }\n",
              "\n",
              "    .dataframe tbody tr th {\n",
              "        vertical-align: top;\n",
              "    }\n",
              "\n",
              "    .dataframe thead th {\n",
              "        text-align: right;\n",
              "    }\n",
              "</style>\n",
              "<table border=\"1\" class=\"dataframe\">\n",
              "  <thead>\n",
              "    <tr style=\"text-align: right;\">\n",
              "      <th></th>\n",
              "      <th>ds</th>\n",
              "    </tr>\n",
              "  </thead>\n",
              "  <tbody>\n",
              "    <tr>\n",
              "      <th>0</th>\n",
              "      <td>2020-01-22</td>\n",
              "    </tr>\n",
              "    <tr>\n",
              "      <th>1</th>\n",
              "      <td>2020-01-23</td>\n",
              "    </tr>\n",
              "    <tr>\n",
              "      <th>2</th>\n",
              "      <td>2020-01-24</td>\n",
              "    </tr>\n",
              "    <tr>\n",
              "      <th>3</th>\n",
              "      <td>2020-01-25</td>\n",
              "    </tr>\n",
              "    <tr>\n",
              "      <th>4</th>\n",
              "      <td>2020-01-26</td>\n",
              "    </tr>\n",
              "    <tr>\n",
              "      <th>...</th>\n",
              "      <td>...</td>\n",
              "    </tr>\n",
              "    <tr>\n",
              "      <th>283</th>\n",
              "      <td>2020-10-31</td>\n",
              "    </tr>\n",
              "    <tr>\n",
              "      <th>284</th>\n",
              "      <td>2020-11-01</td>\n",
              "    </tr>\n",
              "    <tr>\n",
              "      <th>285</th>\n",
              "      <td>2020-11-02</td>\n",
              "    </tr>\n",
              "    <tr>\n",
              "      <th>286</th>\n",
              "      <td>2020-11-03</td>\n",
              "    </tr>\n",
              "    <tr>\n",
              "      <th>287</th>\n",
              "      <td>2020-11-04</td>\n",
              "    </tr>\n",
              "  </tbody>\n",
              "</table>\n",
              "<p>288 rows × 1 columns</p>\n",
              "</div>"
            ],
            "text/plain": [
              "            ds\n",
              "0   2020-01-22\n",
              "1   2020-01-23\n",
              "2   2020-01-24\n",
              "3   2020-01-25\n",
              "4   2020-01-26\n",
              "..         ...\n",
              "283 2020-10-31\n",
              "284 2020-11-01\n",
              "285 2020-11-02\n",
              "286 2020-11-03\n",
              "287 2020-11-04\n",
              "\n",
              "[288 rows x 1 columns]"
            ]
          },
          "execution_count": 28,
          "metadata": {},
          "output_type": "execute_result"
        }
      ],
      "source": [
        "future_pred"
      ]
    },
    {
      "cell_type": "markdown",
      "id": "03bbfa37",
      "metadata": {
        "id": "03bbfa37"
      },
      "source": [
        "# Prediting future forecasting"
      ]
    },
    {
      "cell_type": "code",
      "execution_count": null,
      "id": "069d7482",
      "metadata": {
        "id": "069d7482"
      },
      "outputs": [],
      "source": [
        "prediction = model.predict(future_pred)"
      ]
    },
    {
      "cell_type": "code",
      "execution_count": null,
      "id": "03ede484",
      "metadata": {
        "id": "03ede484",
        "outputId": "3abd52d4-4795-4572-a080-1aa11fc534cd"
      },
      "outputs": [
        {
          "data": {
            "text/html": [
              "<div>\n",
              "<style scoped>\n",
              "    .dataframe tbody tr th:only-of-type {\n",
              "        vertical-align: middle;\n",
              "    }\n",
              "\n",
              "    .dataframe tbody tr th {\n",
              "        vertical-align: top;\n",
              "    }\n",
              "\n",
              "    .dataframe thead th {\n",
              "        text-align: right;\n",
              "    }\n",
              "</style>\n",
              "<table border=\"1\" class=\"dataframe\">\n",
              "  <thead>\n",
              "    <tr style=\"text-align: right;\">\n",
              "      <th></th>\n",
              "      <th>ds</th>\n",
              "      <th>trend</th>\n",
              "      <th>yhat_lower</th>\n",
              "      <th>yhat_upper</th>\n",
              "      <th>trend_lower</th>\n",
              "      <th>trend_upper</th>\n",
              "      <th>additive_terms</th>\n",
              "      <th>additive_terms_lower</th>\n",
              "      <th>additive_terms_upper</th>\n",
              "      <th>weekly</th>\n",
              "      <th>weekly_lower</th>\n",
              "      <th>weekly_upper</th>\n",
              "      <th>multiplicative_terms</th>\n",
              "      <th>multiplicative_terms_lower</th>\n",
              "      <th>multiplicative_terms_upper</th>\n",
              "      <th>yhat</th>\n",
              "    </tr>\n",
              "  </thead>\n",
              "  <tbody>\n",
              "    <tr>\n",
              "      <th>0</th>\n",
              "      <td>2020-01-22</td>\n",
              "      <td>-9445.493329</td>\n",
              "      <td>-125076.895730</td>\n",
              "      <td>94217.645775</td>\n",
              "      <td>-9445.493329</td>\n",
              "      <td>-9445.493329</td>\n",
              "      <td>-10997.897085</td>\n",
              "      <td>-10997.897085</td>\n",
              "      <td>-10997.897085</td>\n",
              "      <td>-10997.897085</td>\n",
              "      <td>-10997.897085</td>\n",
              "      <td>-10997.897085</td>\n",
              "      <td>0.0</td>\n",
              "      <td>0.0</td>\n",
              "      <td>0.0</td>\n",
              "      <td>-20443.390414</td>\n",
              "    </tr>\n",
              "    <tr>\n",
              "      <th>1</th>\n",
              "      <td>2020-01-23</td>\n",
              "      <td>-6740.790161</td>\n",
              "      <td>-113377.341355</td>\n",
              "      <td>87976.723198</td>\n",
              "      <td>-6740.790161</td>\n",
              "      <td>-6740.790161</td>\n",
              "      <td>-1101.108996</td>\n",
              "      <td>-1101.108996</td>\n",
              "      <td>-1101.108996</td>\n",
              "      <td>-1101.108996</td>\n",
              "      <td>-1101.108996</td>\n",
              "      <td>-1101.108996</td>\n",
              "      <td>0.0</td>\n",
              "      <td>0.0</td>\n",
              "      <td>0.0</td>\n",
              "      <td>-7841.899157</td>\n",
              "    </tr>\n",
              "  </tbody>\n",
              "</table>\n",
              "</div>"
            ],
            "text/plain": [
              "          ds        trend     yhat_lower    yhat_upper  trend_lower  \\\n",
              "0 2020-01-22 -9445.493329 -125076.895730  94217.645775 -9445.493329   \n",
              "1 2020-01-23 -6740.790161 -113377.341355  87976.723198 -6740.790161   \n",
              "\n",
              "   trend_upper  additive_terms  additive_terms_lower  additive_terms_upper  \\\n",
              "0 -9445.493329   -10997.897085         -10997.897085         -10997.897085   \n",
              "1 -6740.790161    -1101.108996          -1101.108996          -1101.108996   \n",
              "\n",
              "         weekly  weekly_lower  weekly_upper  multiplicative_terms  \\\n",
              "0 -10997.897085 -10997.897085 -10997.897085                   0.0   \n",
              "1  -1101.108996  -1101.108996  -1101.108996                   0.0   \n",
              "\n",
              "   multiplicative_terms_lower  multiplicative_terms_upper          yhat  \n",
              "0                         0.0                         0.0 -20443.390414  \n",
              "1                         0.0                         0.0  -7841.899157  "
            ]
          },
          "execution_count": 32,
          "metadata": {},
          "output_type": "execute_result"
        }
      ],
      "source": [
        "prediction.head(2)"
      ]
    },
    {
      "cell_type": "code",
      "execution_count": null,
      "id": "d2c282f3",
      "metadata": {
        "id": "d2c282f3",
        "outputId": "5c40d803-0020-41cb-9489-b3903483b41f"
      },
      "outputs": [
        {
          "data": {
            "text/html": [
              "<div>\n",
              "<style scoped>\n",
              "    .dataframe tbody tr th:only-of-type {\n",
              "        vertical-align: middle;\n",
              "    }\n",
              "\n",
              "    .dataframe tbody tr th {\n",
              "        vertical-align: top;\n",
              "    }\n",
              "\n",
              "    .dataframe thead th {\n",
              "        text-align: right;\n",
              "    }\n",
              "</style>\n",
              "<table border=\"1\" class=\"dataframe\">\n",
              "  <thead>\n",
              "    <tr style=\"text-align: right;\">\n",
              "      <th></th>\n",
              "      <th>ds</th>\n",
              "      <th>yhat</th>\n",
              "      <th>yhat_lower</th>\n",
              "      <th>yhat_upper</th>\n",
              "    </tr>\n",
              "  </thead>\n",
              "  <tbody>\n",
              "    <tr>\n",
              "      <th>278</th>\n",
              "      <td>2020-10-26</td>\n",
              "      <td>3.469590e+07</td>\n",
              "      <td>3.214659e+07</td>\n",
              "      <td>3.744513e+07</td>\n",
              "    </tr>\n",
              "    <tr>\n",
              "      <th>279</th>\n",
              "      <td>2020-10-27</td>\n",
              "      <td>3.488516e+07</td>\n",
              "      <td>3.233148e+07</td>\n",
              "      <td>3.760919e+07</td>\n",
              "    </tr>\n",
              "    <tr>\n",
              "      <th>280</th>\n",
              "      <td>2020-10-28</td>\n",
              "      <td>3.509503e+07</td>\n",
              "      <td>3.240843e+07</td>\n",
              "      <td>3.792410e+07</td>\n",
              "    </tr>\n",
              "    <tr>\n",
              "      <th>281</th>\n",
              "      <td>2020-10-29</td>\n",
              "      <td>3.530894e+07</td>\n",
              "      <td>3.267084e+07</td>\n",
              "      <td>3.816244e+07</td>\n",
              "    </tr>\n",
              "    <tr>\n",
              "      <th>282</th>\n",
              "      <td>2020-10-30</td>\n",
              "      <td>3.552412e+07</td>\n",
              "      <td>3.281870e+07</td>\n",
              "      <td>3.841920e+07</td>\n",
              "    </tr>\n",
              "    <tr>\n",
              "      <th>283</th>\n",
              "      <td>2020-10-31</td>\n",
              "      <td>3.573181e+07</td>\n",
              "      <td>3.294645e+07</td>\n",
              "      <td>3.870644e+07</td>\n",
              "    </tr>\n",
              "    <tr>\n",
              "      <th>284</th>\n",
              "      <td>2020-11-01</td>\n",
              "      <td>3.592935e+07</td>\n",
              "      <td>3.313720e+07</td>\n",
              "      <td>3.889510e+07</td>\n",
              "    </tr>\n",
              "    <tr>\n",
              "      <th>285</th>\n",
              "      <td>2020-11-02</td>\n",
              "      <td>3.612398e+07</td>\n",
              "      <td>3.323699e+07</td>\n",
              "      <td>3.913772e+07</td>\n",
              "    </tr>\n",
              "    <tr>\n",
              "      <th>286</th>\n",
              "      <td>2020-11-03</td>\n",
              "      <td>3.631324e+07</td>\n",
              "      <td>3.340387e+07</td>\n",
              "      <td>3.939048e+07</td>\n",
              "    </tr>\n",
              "    <tr>\n",
              "      <th>287</th>\n",
              "      <td>2020-11-04</td>\n",
              "      <td>3.652312e+07</td>\n",
              "      <td>3.355198e+07</td>\n",
              "      <td>3.964728e+07</td>\n",
              "    </tr>\n",
              "  </tbody>\n",
              "</table>\n",
              "</div>"
            ],
            "text/plain": [
              "            ds          yhat    yhat_lower    yhat_upper\n",
              "278 2020-10-26  3.469590e+07  3.214659e+07  3.744513e+07\n",
              "279 2020-10-27  3.488516e+07  3.233148e+07  3.760919e+07\n",
              "280 2020-10-28  3.509503e+07  3.240843e+07  3.792410e+07\n",
              "281 2020-10-29  3.530894e+07  3.267084e+07  3.816244e+07\n",
              "282 2020-10-30  3.552412e+07  3.281870e+07  3.841920e+07\n",
              "283 2020-10-31  3.573181e+07  3.294645e+07  3.870644e+07\n",
              "284 2020-11-01  3.592935e+07  3.313720e+07  3.889510e+07\n",
              "285 2020-11-02  3.612398e+07  3.323699e+07  3.913772e+07\n",
              "286 2020-11-03  3.631324e+07  3.340387e+07  3.939048e+07\n",
              "287 2020-11-04  3.652312e+07  3.355198e+07  3.964728e+07"
            ]
          },
          "execution_count": 34,
          "metadata": {},
          "output_type": "execute_result"
        }
      ],
      "source": [
        "prediction[['ds', 'yhat','yhat_lower','yhat_upper']].tail(10)"
      ]
    },
    {
      "cell_type": "code",
      "execution_count": null,
      "id": "071b7344",
      "metadata": {
        "id": "071b7344",
        "outputId": "081e3da7-a68d-48f0-f05c-8f676abd0277"
      },
      "outputs": [
        {
          "data": {
            "text/plain": [
              "288"
            ]
          },
          "execution_count": 38,
          "metadata": {},
          "output_type": "execute_result"
        }
      ],
      "source": [
        "len(prediction)"
      ]
    },
    {
      "cell_type": "code",
      "execution_count": null,
      "id": "6b991760",
      "metadata": {
        "id": "6b991760"
      },
      "outputs": [],
      "source": [
        "prediction.to_csv('covid_prediction_dataset.csv')"
      ]
    },
    {
      "cell_type": "code",
      "execution_count": null,
      "id": "825474ff",
      "metadata": {
        "id": "825474ff"
      },
      "outputs": [],
      "source": []
    },
    {
      "cell_type": "code",
      "execution_count": null,
      "id": "6a4bd9fe",
      "metadata": {
        "id": "6a4bd9fe",
        "outputId": "514bee97-b265-4456-8c72-98458827e414"
      },
      "outputs": [
        {
          "data": {
            "image/png": "[encoded data removed]",
            "text/plain": [
              "<Figure size 1000x600 with 1 Axes>"
            ]
          },
          "metadata": {},
          "output_type": "display_data"
        }
      ],
      "source": [
        "# plot the model\n",
        "model.plot(prediction)\n",
        "plt.show()"
      ]
    },
    {
      "cell_type": "code",
      "execution_count": null,
      "id": "d9e02cfb",
      "metadata": {
        "id": "d9e02cfb",
        "outputId": "98fe33dd-fbb9-49e2-a353-450ac9c64cb7"
      },
      "outputs": [
        {
          "data": {
            "image/png": "[encoded data removed]",
            "text/plain": [
              "<Figure size 900x600 with 2 Axes>"
            ]
          },
          "metadata": {},
          "output_type": "display_data"
        }
      ],
      "source": [
        "model.plot_components(prediction)\n",
        "plt.show()"
      ]
    },
    {
      "cell_type": "markdown",
      "id": "64adf2eb",
      "metadata": {
        "id": "64adf2eb"
      },
      "source": [
        "# To check the performance - cross validation and performance matrix"
      ]
    },
    {
      "cell_type": "code",
      "execution_count": null,
      "id": "42da9218",
      "metadata": {
        "id": "42da9218"
      },
      "outputs": [],
      "source": [
        "from prophet.diagnostics import cross_validation"
      ]
    },
    {
      "cell_type": "code",
      "execution_count": null,
      "id": "89fd21fc",
      "metadata": {
        "id": "89fd21fc",
        "outputId": "f230186f-9080-4e9f-a459-025da0ba06d7",
        "colab": {
          "referenced_widgets": [
            "bf4b5fedbf9d44dda73f658e3259f8e2"
          ]
        }
      },
      "outputs": [
        {
          "data": {
            "application/vnd.jupyter.widget-view+json": {
              "model_id": "bf4b5fedbf9d44dda73f658e3259f8e2",
              "version_major": 2,
              "version_minor": 0
            },
            "text/plain": [
              "  0%|          | 0/5 [00:00<?, ?it/s]"
            ]
          },
          "metadata": {},
          "output_type": "display_data"
        },
        {
          "name": "stderr",
          "output_type": "stream",
          "text": [
            "09:39:14 - cmdstanpy - INFO - Chain [1] start processing\n",
            "09:39:15 - cmdstanpy - INFO - Chain [1] done processing\n",
            "09:39:16 - cmdstanpy - INFO - Chain [1] start processing\n",
            "09:39:16 - cmdstanpy - INFO - Chain [1] done processing\n",
            "09:39:16 - cmdstanpy - INFO - Chain [1] start processing\n",
            "09:39:17 - cmdstanpy - INFO - Chain [1] done processing\n",
            "09:39:17 - cmdstanpy - INFO - Chain [1] start processing\n",
            "09:39:17 - cmdstanpy - INFO - Chain [1] done processing\n",
            "09:39:18 - cmdstanpy - INFO - Chain [1] start processing\n",
            "09:39:18 - cmdstanpy - INFO - Chain [1] done processing\n"
          ]
        }
      ],
      "source": [
        "df_cv = cross_validation(model, horizon='30 days', period = '15 days', initial='90 days')"
      ]
    },
    {
      "cell_type": "code",
      "execution_count": null,
      "id": "c089f4c8",
      "metadata": {
        "id": "c089f4c8",
        "outputId": "24a43fc2-2400-4ad2-d2c0-35906341db1a"
      },
      "outputs": [
        {
          "data": {
            "text/html": [
              "<div>\n",
              "<style scoped>\n",
              "    .dataframe tbody tr th:only-of-type {\n",
              "        vertical-align: middle;\n",
              "    }\n",
              "\n",
              "    .dataframe tbody tr th {\n",
              "        vertical-align: top;\n",
              "    }\n",
              "\n",
              "    .dataframe thead th {\n",
              "        text-align: right;\n",
              "    }\n",
              "</style>\n",
              "<table border=\"1\" class=\"dataframe\">\n",
              "  <thead>\n",
              "    <tr style=\"text-align: right;\">\n",
              "      <th></th>\n",
              "      <th>ds</th>\n",
              "      <th>yhat</th>\n",
              "      <th>yhat_lower</th>\n",
              "      <th>yhat_upper</th>\n",
              "      <th>y</th>\n",
              "      <th>cutoff</th>\n",
              "    </tr>\n",
              "  </thead>\n",
              "  <tbody>\n",
              "    <tr>\n",
              "      <th>0</th>\n",
              "      <td>2020-04-29</td>\n",
              "      <td>3.201064e+06</td>\n",
              "      <td>3.196010e+06</td>\n",
              "      <td>3.206443e+06</td>\n",
              "      <td>3185195</td>\n",
              "      <td>2020-04-28</td>\n",
              "    </tr>\n",
              "    <tr>\n",
              "      <th>1</th>\n",
              "      <td>2020-04-30</td>\n",
              "      <td>3.285432e+06</td>\n",
              "      <td>3.278872e+06</td>\n",
              "      <td>3.291715e+06</td>\n",
              "      <td>3268876</td>\n",
              "      <td>2020-04-28</td>\n",
              "    </tr>\n",
              "    <tr>\n",
              "      <th>2</th>\n",
              "      <td>2020-05-01</td>\n",
              "      <td>3.369640e+06</td>\n",
              "      <td>3.361467e+06</td>\n",
              "      <td>3.377834e+06</td>\n",
              "      <td>3355922</td>\n",
              "      <td>2020-04-28</td>\n",
              "    </tr>\n",
              "    <tr>\n",
              "      <th>3</th>\n",
              "      <td>2020-05-02</td>\n",
              "      <td>3.450902e+06</td>\n",
              "      <td>3.438127e+06</td>\n",
              "      <td>3.461880e+06</td>\n",
              "      <td>3437608</td>\n",
              "      <td>2020-04-28</td>\n",
              "    </tr>\n",
              "    <tr>\n",
              "      <th>4</th>\n",
              "      <td>2020-05-03</td>\n",
              "      <td>3.530365e+06</td>\n",
              "      <td>3.512549e+06</td>\n",
              "      <td>3.547738e+06</td>\n",
              "      <td>3515244</td>\n",
              "      <td>2020-04-28</td>\n",
              "    </tr>\n",
              "    <tr>\n",
              "      <th>...</th>\n",
              "      <td>...</td>\n",
              "      <td>...</td>\n",
              "      <td>...</td>\n",
              "      <td>...</td>\n",
              "      <td>...</td>\n",
              "      <td>...</td>\n",
              "    </tr>\n",
              "    <tr>\n",
              "      <th>145</th>\n",
              "      <td>2020-07-23</td>\n",
              "      <td>1.315245e+07</td>\n",
              "      <td>1.286965e+07</td>\n",
              "      <td>1.341418e+07</td>\n",
              "      <td>15510481</td>\n",
              "      <td>2020-06-27</td>\n",
              "    </tr>\n",
              "    <tr>\n",
              "      <th>146</th>\n",
              "      <td>2020-07-24</td>\n",
              "      <td>1.329193e+07</td>\n",
              "      <td>1.299538e+07</td>\n",
              "      <td>1.357722e+07</td>\n",
              "      <td>15791645</td>\n",
              "      <td>2020-06-27</td>\n",
              "    </tr>\n",
              "    <tr>\n",
              "      <th>147</th>\n",
              "      <td>2020-07-25</td>\n",
              "      <td>1.342827e+07</td>\n",
              "      <td>1.311731e+07</td>\n",
              "      <td>1.373247e+07</td>\n",
              "      <td>16047190</td>\n",
              "      <td>2020-06-27</td>\n",
              "    </tr>\n",
              "    <tr>\n",
              "      <th>148</th>\n",
              "      <td>2020-07-26</td>\n",
              "      <td>1.354703e+07</td>\n",
              "      <td>1.322716e+07</td>\n",
              "      <td>1.385799e+07</td>\n",
              "      <td>16251796</td>\n",
              "      <td>2020-06-27</td>\n",
              "    </tr>\n",
              "    <tr>\n",
              "      <th>149</th>\n",
              "      <td>2020-07-27</td>\n",
              "      <td>1.367243e+07</td>\n",
              "      <td>1.334121e+07</td>\n",
              "      <td>1.399684e+07</td>\n",
              "      <td>16480485</td>\n",
              "      <td>2020-06-27</td>\n",
              "    </tr>\n",
              "  </tbody>\n",
              "</table>\n",
              "<p>150 rows × 6 columns</p>\n",
              "</div>"
            ],
            "text/plain": [
              "            ds          yhat    yhat_lower    yhat_upper         y     cutoff\n",
              "0   2020-04-29  3.201064e+06  3.196010e+06  3.206443e+06   3185195 2020-04-28\n",
              "1   2020-04-30  3.285432e+06  3.278872e+06  3.291715e+06   3268876 2020-04-28\n",
              "2   2020-05-01  3.369640e+06  3.361467e+06  3.377834e+06   3355922 2020-04-28\n",
              "3   2020-05-02  3.450902e+06  3.438127e+06  3.461880e+06   3437608 2020-04-28\n",
              "4   2020-05-03  3.530365e+06  3.512549e+06  3.547738e+06   3515244 2020-04-28\n",
              "..         ...           ...           ...           ...       ...        ...\n",
              "145 2020-07-23  1.315245e+07  1.286965e+07  1.341418e+07  15510481 2020-06-27\n",
              "146 2020-07-24  1.329193e+07  1.299538e+07  1.357722e+07  15791645 2020-06-27\n",
              "147 2020-07-25  1.342827e+07  1.311731e+07  1.373247e+07  16047190 2020-06-27\n",
              "148 2020-07-26  1.354703e+07  1.322716e+07  1.385799e+07  16251796 2020-06-27\n",
              "149 2020-07-27  1.367243e+07  1.334121e+07  1.399684e+07  16480485 2020-06-27\n",
              "\n",
              "[150 rows x 6 columns]"
            ]
          },
          "execution_count": 41,
          "metadata": {},
          "output_type": "execute_result"
        }
      ],
      "source": [
        "df_cv"
      ]
    },
    {
      "cell_type": "code",
      "execution_count": null,
      "id": "602c0b77",
      "metadata": {
        "id": "602c0b77"
      },
      "outputs": [],
      "source": [
        "from prophet.diagnostics import performance_metrics"
      ]
    },
    {
      "cell_type": "code",
      "execution_count": null,
      "id": "58c085f4",
      "metadata": {
        "id": "58c085f4"
      },
      "outputs": [],
      "source": [
        "df_performance = performance_metrics(df_cv)"
      ]
    },
    {
      "cell_type": "code",
      "execution_count": null,
      "id": "54551bce",
      "metadata": {
        "id": "54551bce",
        "outputId": "867822d1-3a92-452a-80af-b1ac4e39625b"
      },
      "outputs": [
        {
          "data": {
            "text/html": [
              "<div>\n",
              "<style scoped>\n",
              "    .dataframe tbody tr th:only-of-type {\n",
              "        vertical-align: middle;\n",
              "    }\n",
              "\n",
              "    .dataframe tbody tr th {\n",
              "        vertical-align: top;\n",
              "    }\n",
              "\n",
              "    .dataframe thead th {\n",
              "        text-align: right;\n",
              "    }\n",
              "</style>\n",
              "<table border=\"1\" class=\"dataframe\">\n",
              "  <thead>\n",
              "    <tr style=\"text-align: right;\">\n",
              "      <th></th>\n",
              "      <th>horizon</th>\n",
              "      <th>mse</th>\n",
              "      <th>rmse</th>\n",
              "      <th>mae</th>\n",
              "      <th>mape</th>\n",
              "      <th>mdape</th>\n",
              "      <th>smape</th>\n",
              "      <th>coverage</th>\n",
              "    </tr>\n",
              "  </thead>\n",
              "  <tbody>\n",
              "    <tr>\n",
              "      <th>0</th>\n",
              "      <td>3 days</td>\n",
              "      <td>2.714808e+10</td>\n",
              "      <td>1.647667e+05</td>\n",
              "      <td>1.290616e+05</td>\n",
              "      <td>0.016856</td>\n",
              "      <td>0.017600</td>\n",
              "      <td>0.017039</td>\n",
              "      <td>0.000000</td>\n",
              "    </tr>\n",
              "    <tr>\n",
              "      <th>1</th>\n",
              "      <td>4 days</td>\n",
              "      <td>3.761718e+10</td>\n",
              "      <td>1.939515e+05</td>\n",
              "      <td>1.512328e+05</td>\n",
              "      <td>0.019317</td>\n",
              "      <td>0.022389</td>\n",
              "      <td>0.019562</td>\n",
              "      <td>0.000000</td>\n",
              "    </tr>\n",
              "    <tr>\n",
              "      <th>2</th>\n",
              "      <td>5 days</td>\n",
              "      <td>5.159644e+10</td>\n",
              "      <td>2.271485e+05</td>\n",
              "      <td>1.750532e+05</td>\n",
              "      <td>0.021766</td>\n",
              "      <td>0.025749</td>\n",
              "      <td>0.022085</td>\n",
              "      <td>0.066667</td>\n",
              "    </tr>\n",
              "    <tr>\n",
              "      <th>3</th>\n",
              "      <td>6 days</td>\n",
              "      <td>6.924995e+10</td>\n",
              "      <td>2.631538e+05</td>\n",
              "      <td>2.020240e+05</td>\n",
              "      <td>0.024543</td>\n",
              "      <td>0.026747</td>\n",
              "      <td>0.024954</td>\n",
              "      <td>0.133333</td>\n",
              "    </tr>\n",
              "    <tr>\n",
              "      <th>4</th>\n",
              "      <td>7 days</td>\n",
              "      <td>8.998205e+10</td>\n",
              "      <td>2.999701e+05</td>\n",
              "      <td>2.323610e+05</td>\n",
              "      <td>0.027825</td>\n",
              "      <td>0.031309</td>\n",
              "      <td>0.028348</td>\n",
              "      <td>0.200000</td>\n",
              "    </tr>\n",
              "    <tr>\n",
              "      <th>5</th>\n",
              "      <td>8 days</td>\n",
              "      <td>1.143951e+11</td>\n",
              "      <td>3.382235e+05</td>\n",
              "      <td>2.641976e+05</td>\n",
              "      <td>0.031132</td>\n",
              "      <td>0.034969</td>\n",
              "      <td>0.031790</td>\n",
              "      <td>0.200000</td>\n",
              "    </tr>\n",
              "    <tr>\n",
              "      <th>6</th>\n",
              "      <td>9 days</td>\n",
              "      <td>1.399463e+11</td>\n",
              "      <td>3.740940e+05</td>\n",
              "      <td>2.954883e+05</td>\n",
              "      <td>0.034317</td>\n",
              "      <td>0.038861</td>\n",
              "      <td>0.035119</td>\n",
              "      <td>0.200000</td>\n",
              "    </tr>\n",
              "    <tr>\n",
              "      <th>7</th>\n",
              "      <td>10 days</td>\n",
              "      <td>1.686206e+11</td>\n",
              "      <td>4.106344e+05</td>\n",
              "      <td>3.261934e+05</td>\n",
              "      <td>0.037359</td>\n",
              "      <td>0.043968</td>\n",
              "      <td>0.038310</td>\n",
              "      <td>0.200000</td>\n",
              "    </tr>\n",
              "    <tr>\n",
              "      <th>8</th>\n",
              "      <td>11 days</td>\n",
              "      <td>2.010658e+11</td>\n",
              "      <td>4.484036e+05</td>\n",
              "      <td>3.571724e+05</td>\n",
              "      <td>0.040351</td>\n",
              "      <td>0.048816</td>\n",
              "      <td>0.041453</td>\n",
              "      <td>0.200000</td>\n",
              "    </tr>\n",
              "    <tr>\n",
              "      <th>9</th>\n",
              "      <td>12 days</td>\n",
              "      <td>2.435972e+11</td>\n",
              "      <td>4.935557e+05</td>\n",
              "      <td>3.924588e+05</td>\n",
              "      <td>0.043529</td>\n",
              "      <td>0.052135</td>\n",
              "      <td>0.044811</td>\n",
              "      <td>0.200000</td>\n",
              "    </tr>\n",
              "    <tr>\n",
              "      <th>10</th>\n",
              "      <td>13 days</td>\n",
              "      <td>2.949398e+11</td>\n",
              "      <td>5.430836e+05</td>\n",
              "      <td>4.307104e+05</td>\n",
              "      <td>0.046781</td>\n",
              "      <td>0.054181</td>\n",
              "      <td>0.048273</td>\n",
              "      <td>0.200000</td>\n",
              "    </tr>\n",
              "    <tr>\n",
              "      <th>11</th>\n",
              "      <td>14 days</td>\n",
              "      <td>3.546248e+11</td>\n",
              "      <td>5.955038e+05</td>\n",
              "      <td>4.725612e+05</td>\n",
              "      <td>0.050341</td>\n",
              "      <td>0.059506</td>\n",
              "      <td>0.052077</td>\n",
              "      <td>0.200000</td>\n",
              "    </tr>\n",
              "    <tr>\n",
              "      <th>12</th>\n",
              "      <td>15 days</td>\n",
              "      <td>4.192533e+11</td>\n",
              "      <td>6.474977e+05</td>\n",
              "      <td>5.164680e+05</td>\n",
              "      <td>0.054205</td>\n",
              "      <td>0.064896</td>\n",
              "      <td>0.056208</td>\n",
              "      <td>0.200000</td>\n",
              "    </tr>\n",
              "    <tr>\n",
              "      <th>13</th>\n",
              "      <td>16 days</td>\n",
              "      <td>4.854471e+11</td>\n",
              "      <td>6.967403e+05</td>\n",
              "      <td>5.608305e+05</td>\n",
              "      <td>0.058266</td>\n",
              "      <td>0.070509</td>\n",
              "      <td>0.060545</td>\n",
              "      <td>0.200000</td>\n",
              "    </tr>\n",
              "    <tr>\n",
              "      <th>14</th>\n",
              "      <td>17 days</td>\n",
              "      <td>5.579909e+11</td>\n",
              "      <td>7.469879e+05</td>\n",
              "      <td>6.073601e+05</td>\n",
              "      <td>0.062607</td>\n",
              "      <td>0.074981</td>\n",
              "      <td>0.065189</td>\n",
              "      <td>0.200000</td>\n",
              "    </tr>\n",
              "    <tr>\n",
              "      <th>15</th>\n",
              "      <td>18 days</td>\n",
              "      <td>6.389735e+11</td>\n",
              "      <td>7.993582e+05</td>\n",
              "      <td>6.549446e+05</td>\n",
              "      <td>0.066903</td>\n",
              "      <td>0.079411</td>\n",
              "      <td>0.069800</td>\n",
              "      <td>0.200000</td>\n",
              "    </tr>\n",
              "    <tr>\n",
              "      <th>16</th>\n",
              "      <td>19 days</td>\n",
              "      <td>7.413577e+11</td>\n",
              "      <td>8.610213e+05</td>\n",
              "      <td>7.073740e+05</td>\n",
              "      <td>0.071214</td>\n",
              "      <td>0.082352</td>\n",
              "      <td>0.074478</td>\n",
              "      <td>0.200000</td>\n",
              "    </tr>\n",
              "    <tr>\n",
              "      <th>17</th>\n",
              "      <td>20 days</td>\n",
              "      <td>8.588161e+11</td>\n",
              "      <td>9.267233e+05</td>\n",
              "      <td>7.624852e+05</td>\n",
              "      <td>0.075501</td>\n",
              "      <td>0.087408</td>\n",
              "      <td>0.079166</td>\n",
              "      <td>0.200000</td>\n",
              "    </tr>\n",
              "    <tr>\n",
              "      <th>18</th>\n",
              "      <td>21 days</td>\n",
              "      <td>9.901973e+11</td>\n",
              "      <td>9.950866e+05</td>\n",
              "      <td>8.210492e+05</td>\n",
              "      <td>0.080004</td>\n",
              "      <td>0.091932</td>\n",
              "      <td>0.084109</td>\n",
              "      <td>0.200000</td>\n",
              "    </tr>\n",
              "    <tr>\n",
              "      <th>19</th>\n",
              "      <td>22 days</td>\n",
              "      <td>1.129960e+12</td>\n",
              "      <td>1.062996e+06</td>\n",
              "      <td>8.827805e+05</td>\n",
              "      <td>0.084987</td>\n",
              "      <td>0.095527</td>\n",
              "      <td>0.089572</td>\n",
              "      <td>0.200000</td>\n",
              "    </tr>\n",
              "    <tr>\n",
              "      <th>20</th>\n",
              "      <td>23 days</td>\n",
              "      <td>1.273189e+12</td>\n",
              "      <td>1.128357e+06</td>\n",
              "      <td>9.441737e+05</td>\n",
              "      <td>0.089939</td>\n",
              "      <td>0.103896</td>\n",
              "      <td>0.095014</td>\n",
              "      <td>0.200000</td>\n",
              "    </tr>\n",
              "    <tr>\n",
              "      <th>21</th>\n",
              "      <td>24 days</td>\n",
              "      <td>1.421031e+12</td>\n",
              "      <td>1.192070e+06</td>\n",
              "      <td>1.005045e+06</td>\n",
              "      <td>0.094800</td>\n",
              "      <td>0.109529</td>\n",
              "      <td>0.100370</td>\n",
              "      <td>0.200000</td>\n",
              "    </tr>\n",
              "    <tr>\n",
              "      <th>22</th>\n",
              "      <td>25 days</td>\n",
              "      <td>1.590339e+12</td>\n",
              "      <td>1.261087e+06</td>\n",
              "      <td>1.067254e+06</td>\n",
              "      <td>0.099429</td>\n",
              "      <td>0.112456</td>\n",
              "      <td>0.105508</td>\n",
              "      <td>0.200000</td>\n",
              "    </tr>\n",
              "    <tr>\n",
              "      <th>23</th>\n",
              "      <td>26 days</td>\n",
              "      <td>1.792497e+12</td>\n",
              "      <td>1.338842e+06</td>\n",
              "      <td>1.134079e+06</td>\n",
              "      <td>0.104051</td>\n",
              "      <td>0.116411</td>\n",
              "      <td>0.110688</td>\n",
              "      <td>0.200000</td>\n",
              "    </tr>\n",
              "    <tr>\n",
              "      <th>24</th>\n",
              "      <td>27 days</td>\n",
              "      <td>2.033997e+12</td>\n",
              "      <td>1.426183e+06</td>\n",
              "      <td>1.208029e+06</td>\n",
              "      <td>0.108910</td>\n",
              "      <td>0.122659</td>\n",
              "      <td>0.116190</td>\n",
              "      <td>0.200000</td>\n",
              "    </tr>\n",
              "    <tr>\n",
              "      <th>25</th>\n",
              "      <td>28 days</td>\n",
              "      <td>2.291441e+12</td>\n",
              "      <td>1.513751e+06</td>\n",
              "      <td>1.283859e+06</td>\n",
              "      <td>0.113795</td>\n",
              "      <td>0.128867</td>\n",
              "      <td>0.121760</td>\n",
              "      <td>0.200000</td>\n",
              "    </tr>\n",
              "    <tr>\n",
              "      <th>26</th>\n",
              "      <td>29 days</td>\n",
              "      <td>2.552789e+12</td>\n",
              "      <td>1.597745e+06</td>\n",
              "      <td>1.360316e+06</td>\n",
              "      <td>0.118809</td>\n",
              "      <td>0.134952</td>\n",
              "      <td>0.127488</td>\n",
              "      <td>0.200000</td>\n",
              "    </tr>\n",
              "    <tr>\n",
              "      <th>27</th>\n",
              "      <td>30 days</td>\n",
              "      <td>2.809965e+12</td>\n",
              "      <td>1.676295e+06</td>\n",
              "      <td>1.434599e+06</td>\n",
              "      <td>0.123736</td>\n",
              "      <td>0.142558</td>\n",
              "      <td>0.133112</td>\n",
              "      <td>0.200000</td>\n",
              "    </tr>\n",
              "  </tbody>\n",
              "</table>\n",
              "</div>"
            ],
            "text/plain": [
              "   horizon           mse          rmse           mae      mape     mdape  \\\n",
              "0   3 days  2.714808e+10  1.647667e+05  1.290616e+05  0.016856  0.017600   \n",
              "1   4 days  3.761718e+10  1.939515e+05  1.512328e+05  0.019317  0.022389   \n",
              "2   5 days  5.159644e+10  2.271485e+05  1.750532e+05  0.021766  0.025749   \n",
              "3   6 days  6.924995e+10  2.631538e+05  2.020240e+05  0.024543  0.026747   \n",
              "4   7 days  8.998205e+10  2.999701e+05  2.323610e+05  0.027825  0.031309   \n",
              "5   8 days  1.143951e+11  3.382235e+05  2.641976e+05  0.031132  0.034969   \n",
              "6   9 days  1.399463e+11  3.740940e+05  2.954883e+05  0.034317  0.038861   \n",
              "7  10 days  1.686206e+11  4.106344e+05  3.261934e+05  0.037359  0.043968   \n",
              "8  11 days  2.010658e+11  4.484036e+05  3.571724e+05  0.040351  0.048816   \n",
              "9  12 days  2.435972e+11  4.935557e+05  3.924588e+05  0.043529  0.052135   \n",
              "10 13 days  2.949398e+11  5.430836e+05  4.307104e+05  0.046781  0.054181   \n",
              "11 14 days  3.546248e+11  5.955038e+05  4.725612e+05  0.050341  0.059506   \n",
              "12 15 days  4.192533e+11  6.474977e+05  5.164680e+05  0.054205  0.064896   \n",
              "13 16 days  4.854471e+11  6.967403e+05  5.608305e+05  0.058266  0.070509   \n",
              "14 17 days  5.579909e+11  7.469879e+05  6.073601e+05  0.062607  0.074981   \n",
              "15 18 days  6.389735e+11  7.993582e+05  6.549446e+05  0.066903  0.079411   \n",
              "16 19 days  7.413577e+11  8.610213e+05  7.073740e+05  0.071214  0.082352   \n",
              "17 20 days  8.588161e+11  9.267233e+05  7.624852e+05  0.075501  0.087408   \n",
              "18 21 days  9.901973e+11  9.950866e+05  8.210492e+05  0.080004  0.091932   \n",
              "19 22 days  1.129960e+12  1.062996e+06  8.827805e+05  0.084987  0.095527   \n",
              "20 23 days  1.273189e+12  1.128357e+06  9.441737e+05  0.089939  0.103896   \n",
              "21 24 days  1.421031e+12  1.192070e+06  1.005045e+06  0.094800  0.109529   \n",
              "22 25 days  1.590339e+12  1.261087e+06  1.067254e+06  0.099429  0.112456   \n",
              "23 26 days  1.792497e+12  1.338842e+06  1.134079e+06  0.104051  0.116411   \n",
              "24 27 days  2.033997e+12  1.426183e+06  1.208029e+06  0.108910  0.122659   \n",
              "25 28 days  2.291441e+12  1.513751e+06  1.283859e+06  0.113795  0.128867   \n",
              "26 29 days  2.552789e+12  1.597745e+06  1.360316e+06  0.118809  0.134952   \n",
              "27 30 days  2.809965e+12  1.676295e+06  1.434599e+06  0.123736  0.142558   \n",
              "\n",
              "       smape  coverage  \n",
              "0   0.017039  0.000000  \n",
              "1   0.019562  0.000000  \n",
              "2   0.022085  0.066667  \n",
              "3   0.024954  0.133333  \n",
              "4   0.028348  0.200000  \n",
              "5   0.031790  0.200000  \n",
              "6   0.035119  0.200000  \n",
              "7   0.038310  0.200000  \n",
              "8   0.041453  0.200000  \n",
              "9   0.044811  0.200000  \n",
              "10  0.048273  0.200000  \n",
              "11  0.052077  0.200000  \n",
              "12  0.056208  0.200000  \n",
              "13  0.060545  0.200000  \n",
              "14  0.065189  0.200000  \n",
              "15  0.069800  0.200000  \n",
              "16  0.074478  0.200000  \n",
              "17  0.079166  0.200000  \n",
              "18  0.084109  0.200000  \n",
              "19  0.089572  0.200000  \n",
              "20  0.095014  0.200000  \n",
              "21  0.100370  0.200000  \n",
              "22  0.105508  0.200000  \n",
              "23  0.110688  0.200000  \n",
              "24  0.116190  0.200000  \n",
              "25  0.121760  0.200000  \n",
              "26  0.127488  0.200000  \n",
              "27  0.133112  0.200000  "
            ]
          },
          "execution_count": 44,
          "metadata": {},
          "output_type": "execute_result"
        }
      ],
      "source": [
        "df_performance"
      ]
    },
    {
      "cell_type": "markdown",
      "id": "ee3d461d",
      "metadata": {
        "id": "ee3d461d"
      },
      "source": [
        "# visualize"
      ]
    },
    {
      "cell_type": "code",
      "execution_count": null,
      "id": "3c6f98c0",
      "metadata": {
        "id": "3c6f98c0"
      },
      "outputs": [],
      "source": [
        "from prophet.plot import plot_cross_validation_metric"
      ]
    },
    {
      "cell_type": "code",
      "execution_count": null,
      "id": "d3f31d21",
      "metadata": {
        "id": "d3f31d21",
        "outputId": "f80f1713-66c2-4719-bc7c-66d3de439592"
      },
      "outputs": [
        {
          "data": {
            "image/png": "[encoded data removed]",
            "text/plain": [
              "<Figure size 1000x600 with 1 Axes>"
            ]
          },
          "metadata": {},
          "output_type": "display_data"
        }
      ],
      "source": [
        "df_performance = plot_cross_validation_metric(df_cv, metric = 'mape')"
      ]
    },
    {
      "cell_type": "code",
      "execution_count": null,
      "id": "8a093f4c",
      "metadata": {
        "id": "8a093f4c"
      },
      "outputs": [],
      "source": []
    },
    {
      "cell_type": "code",
      "execution_count": null,
      "id": "7c10119f",
      "metadata": {
        "id": "7c10119f"
      },
      "outputs": [],
      "source": []
    },
    {
      "cell_type": "code",
      "execution_count": null,
      "id": "358e44fa",
      "metadata": {
        "id": "358e44fa"
      },
      "outputs": [],
      "source": []
    },
    {
      "cell_type": "code",
      "execution_count": null,
      "id": "c1275236",
      "metadata": {
        "id": "c1275236"
      },
      "outputs": [],
      "source": []
    },
    {
      "cell_type": "code",
      "execution_count": null,
      "id": "5a802c1f",
      "metadata": {
        "id": "5a802c1f"
      },
      "outputs": [],
      "source": []
    },
    {
      "cell_type": "code",
      "execution_count": null,
      "id": "7f27c635",
      "metadata": {
        "id": "7f27c635"
      },
      "outputs": [],
      "source": []
    },
    {
      "cell_type": "code",
      "execution_count": null,
      "id": "3ee43568",
      "metadata": {
        "id": "3ee43568"
      },
      "outputs": [],
      "source": []
    },
    {
      "cell_type": "code",
      "execution_count": null,
      "id": "a4d88716",
      "metadata": {
        "id": "a4d88716"
      },
      "outputs": [],
      "source": []
    },
    {
      "cell_type": "code",
      "execution_count": null,
      "id": "216a923f",
      "metadata": {
        "id": "216a923f"
      },
      "outputs": [],
      "source": []
    },
    {
      "cell_type": "code",
      "execution_count": null,
      "id": "92c0db4f",
      "metadata": {
        "id": "92c0db4f"
      },
      "outputs": [],
      "source": []
    },
    {
      "cell_type": "code",
      "execution_count": null,
      "id": "3ff2e982",
      "metadata": {
        "id": "3ff2e982"
      },
      "outputs": [],
      "source": []
    }
  ],
  "metadata": {
    "kernelspec": {
      "display_name": "Python 3 (ipykernel)",
      "language": "python",
      "name": "python3"
    },
    "language_info": {
      "codemirror_mode": {
        "name": "ipython",
        "version": 3
      },
      "file_extension": ".py",
      "mimetype": "text/x-python",
      "name": "python",
      "nbconvert_exporter": "python",
      "pygments_lexer": "ipython3",
      "version": "3.9.13"
    },
    "colab": {
      "provenance": []
    }
  },
  "nbformat": 4,
  "nbformat_minor": 5
}